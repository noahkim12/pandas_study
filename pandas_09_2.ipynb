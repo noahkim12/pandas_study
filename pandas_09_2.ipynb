{
 "cells": [
  {
   "cell_type": "markdown",
   "id": "a647823e",
   "metadata": {},
   "source": [
    "<span style=\"font-weight: bold; font-size:30px; color:#2196F3\">09-2 문자열 메서드</span>"
   ]
  },
  {
   "cell_type": "markdown",
   "id": "cba1ddd8",
   "metadata": {},
   "source": [
    "지금까지 인덱스 슬라이싱으로 문자열을 추출하는 방법을 알아보았다. 그런데 문자열이 너무 길어서 내가 원하는 문자가 몇 번째 인덱스에 있는지 파악하기 어렵거나 문자열에 포함된 소문자를 모두 대문자로 바꾸고 싶다면 어떻게 해야 할까? 이런 경우에는 문자열 메서드를 사용하면 된다. 자주 사용하는 문자열 메서드와 간단한 실습 코드를 다음 표에 정리했다. 문자열 표 아래에 있는 실습 코드를 정리한 표도 함께 읽어보자."
   ]
  },
  {
   "cell_type": "markdown",
   "id": "24561281",
   "metadata": {},
   "source": [
    "\n"
   ]
  },
  {
   "cell_type": "markdown",
   "id": "10379724",
   "metadata": {},
   "source": [
    "#### 문자열 메서드"
   ]
  },
  {
   "cell_type": "markdown",
   "id": "a0e667ea",
   "metadata": {},
   "source": [
    "| 메서드 | 설명 |\n",
    "|:---: |:---: |\n",
    "| capitalize | 첫 문자를 대문자로 변환한다. |\n",
    "| count | 문자열의 개수를 반환한다. |\n",
    "| startswith | 문자열이 특정 문자로 시작하면 참이 된다. |\n",
    "| endswith | 문자열이 특정 문자로 끝나면 참이 된다. |\n",
    "| find | 찾을 문자열의 첫 번째 인덱스를 반환한다. 실패 시 -1을 반환한다. |\n",
    "| index | find 메서드와 같은 역할을 수행하지만 실패 시 ValueError를 반환한다. |\n",
    "| isalpha | 모든 문자가 알파벳이면 참이다. |\n",
    "| isdecimal | 모든 문자가 숫자면 참이다. |\n",
    "| isalnum | 모든 문자가 알파벳이거나 숫자면 참이다. |\n",
    "| lower | 모든 문자를 소문자로 변환한다. |\n",
    "| upper | 모든 문자를 대문자로 변환한다. |\n",
    "| replace | 문자열의 문자를 다른 문자로 교체한다. |\n",
    "| strip | 문자열의 맨 앞과 맨 뒤에 있는 빈 칸을 제거한다. |\n",
    "| split | 구분자를 지정하여 문자열을 나누고, 나눈 값들의 리스트를 반환한다. |\n",
    "| partition | split 메서드와 비슷한 역할을 수행하지만 구분자도 반환한다. |\n",
    "| center | 지정한 너비로 문자열을 늘이고 문자열을 가운데 정렬한다. |\n",
    "| zfill | 문자열의 빈 칸을'0'으로 채운다. |"
   ]
  },
  {
   "cell_type": "markdown",
   "id": "046c6406",
   "metadata": {},
   "source": [
    "\n"
   ]
  },
  {
   "cell_type": "markdown",
   "id": "bf2673ac",
   "metadata": {},
   "source": [
    "#### 파이썬 문자열 메서드 - 실습 코드"
   ]
  },
  {
   "cell_type": "markdown",
   "id": "6b8cedcd",
   "metadata": {},
   "source": [
    "| 실습 코드 | 실행 결과 |\n",
    "|:---: |:---: |\n",
    "| \"black Knight\".capitalize() | 'Black knight |\n",
    "| \"It's just a flesh wound!\".count('u') | 2 |\n",
    "| \"Halt! who goes there?\".startswith('Halt') | True |\n",
    "| \"coconut\".endswith('nut') | True |\n",
    "| \"It's just a flesh wound!\".find(\"u\") | 6 |\n",
    "| \"It's just a flesh wound!\".index('scratch') | ValueError |\n",
    "| \"old woman\".isalpha() | False |\n",
    "| \"37\".isdecimal() | True |\n",
    "| \"I'm 37\".isalnum() | False |\n",
    "| \"Black Knight\".lower() | black knight |\n",
    "| \"Black Knight\".upper() | BLACK KNIGHT |\n",
    "| \"flesh wound!\".replace('flesh wound', 'scratch') | 'scratch! |\n",
    "| \" I'm not dead \".strip() | \"I'm not dead\" |\n",
    "| \"NI! NI! NI! NI!\".split(sep='  ') | ['NI!', 'NI!', 'NI!', 'NI!'] |\n",
    "| \"3,4\".partition(',') | ('3', ',', '4') |\n",
    "| \"nine\".center(width=10) | 'nine' |\n",
    "| \"9\".zfill(with=5) | '00009' |"
   ]
  },
  {
   "cell_type": "markdown",
   "id": "302921dc",
   "metadata": {},
   "source": [
    "\n"
   ]
  },
  {
   "cell_type": "markdown",
   "id": "2f1b39f5",
   "metadata": {},
   "source": [
    "#### join 메서드\n",
    "join 메서드는 문자열을 연결하여 새로운 문자열을 반환하는 메서드이다. 다음은 분리된 좌표 데이터(40º, 46', 52.837\", ...)를 합친것이다. 이때 join 메서드 앞에 문자('')를 지정하면 해당 문자를 단어 사이에 넣어 연결해 준다."
   ]
  },
  {
   "cell_type": "code",
   "execution_count": 30,
   "id": "ac78743b",
   "metadata": {},
   "outputs": [
    {
     "name": "stdout",
     "output_type": "stream",
     "text": [
      "40º 46' 52.837 N 73º 58' 26.302\" W\n"
     ]
    }
   ],
   "source": [
    "d1 = '40º'\n",
    "m1 = \"46'\"\n",
    "s1 = '52.837'\n",
    "u1 = 'N'\n",
    "\n",
    "d2 = '73º'\n",
    "m2 = \"58'\"\n",
    "s2 = '26.302\"'\n",
    "u2 = 'W'\n",
    "\n",
    "coords = ' '.join([d1, m1, s1, u1, d2, m2, s2, u2])\n",
    "print(coords)"
   ]
  },
  {
   "cell_type": "markdown",
   "id": "f34b8726",
   "metadata": {},
   "source": [
    "\n"
   ]
  },
  {
   "cell_type": "markdown",
   "id": "4d9da2d1",
   "metadata": {},
   "source": [
    "#### splitlines 메서드\n",
    "이번에는 splitlines 메서드에 대해 알아보자. splitlines 메서드는 여러 행을 가진 문자열을 분리한 다음 리스트로 반환한다. multi_str에 저장된 문자열을 splitlines 메서드로 분리하면 다음과 같이 된다."
   ]
  },
  {
   "cell_type": "code",
   "execution_count": 31,
   "id": "d296a9c7",
   "metadata": {},
   "outputs": [
    {
     "name": "stdout",
     "output_type": "stream",
     "text": [
      "Guard: What? Ridden on a horse?\n",
      "King Arthur: Yes!\n",
      "Guard: You're using coconuts!\n",
      "King Arthur: What?\n",
      "Guard: You've got ... coconut[s] and you're bangin' 'em together'.\n",
      "\n"
     ]
    }
   ],
   "source": [
    "multi_str = \"\"\"Guard: What? Ridden on a horse?\n",
    "King Arthur: Yes!\n",
    "Guard: You're using coconuts!\n",
    "King Arthur: What?\n",
    "Guard: You've got ... coconut[s] and you're bangin' 'em together'.\n",
    "\"\"\"\n",
    "\n",
    "print(multi_str)"
   ]
  },
  {
   "cell_type": "code",
   "execution_count": 32,
   "id": "9bff2158",
   "metadata": {},
   "outputs": [
    {
     "name": "stdout",
     "output_type": "stream",
     "text": [
      "['Guard: What? Ridden on a horse?', 'King Arthur: Yes!', \"Guard: You're using coconuts!\", 'King Arthur: What?', \"Guard: You've got ... coconut[s] and you're bangin' 'em together'.\"]\n"
     ]
    }
   ],
   "source": [
    "multi_str_split = multi_str.splitlines()\n",
    "print(multi_str_split)"
   ]
  },
  {
   "cell_type": "markdown",
   "id": "8af1e6e4",
   "metadata": {},
   "source": [
    "#### 인덱스 슬라이싱을 응용하면 특정 문자열만 가져올 수도 있다. 다음은 Guard의 대사만 가져온 것이다."
   ]
  },
  {
   "cell_type": "code",
   "execution_count": 33,
   "id": "04e7c554",
   "metadata": {},
   "outputs": [
    {
     "name": "stdout",
     "output_type": "stream",
     "text": [
      "['Guard: What? Ridden on a horse?', \"Guard: You're using coconuts!\", \"Guard: You've got ... coconut[s] and you're bangin' 'em together'.\"]\n"
     ]
    }
   ],
   "source": [
    "guard = multi_str_split[::2]\n",
    "print(guard)"
   ]
  },
  {
   "cell_type": "markdown",
   "id": "fe44b615",
   "metadata": {},
   "source": [
    "\n"
   ]
  },
  {
   "cell_type": "markdown",
   "id": "85d991d7",
   "metadata": {},
   "source": [
    "#### replace 메서드\n",
    "조금 더 나아가 볼까? 만약 Guard의 대사에서 'Guard:'라는 문자열을 빼고 싶다면 어떻게 해야 할까? 그럴 때는 문자열을 치환해 주는 replace 메서드를 사용하면 된다. 다음과 같이 \"Guard: \"를 \"\"로 치환하여 Guard: 를 없앴다."
   ]
  },
  {
   "cell_type": "code",
   "execution_count": 34,
   "id": "d38fef5f",
   "metadata": {},
   "outputs": [
    {
     "name": "stdout",
     "output_type": "stream",
     "text": [
      "['What? Ridden on a horse?', \"You're using coconuts!\", \"You've got ... coconut[s] and you're bangin' 'em together'.\"]\n"
     ]
    }
   ],
   "source": [
    "guard = multi_str.replace(\"Guard: \", \"\").splitlines()[::2]\n",
    "print(guard)"
   ]
  },
  {
   "cell_type": "markdown",
   "id": "48a1cb5a",
   "metadata": {},
   "source": [
    "\n"
   ]
  },
  {
   "cell_type": "markdown",
   "id": "a5dbc959",
   "metadata": {},
   "source": [
    "<span style=\"font-weight: bold; font-size:20px; color:Gray\">출처 : Do it! 데이터 분석을 위한 판다스</span>"
   ]
  },
  {
   "cell_type": "markdown",
   "id": "035f42c6",
   "metadata": {},
   "source": [
    "\n"
   ]
  }
 ],
 "metadata": {
  "kernelspec": {
   "display_name": "Python 3 (ipykernel)",
   "language": "python",
   "name": "python3"
  },
  "language_info": {
   "codemirror_mode": {
    "name": "ipython",
    "version": 3
   },
   "file_extension": ".py",
   "mimetype": "text/x-python",
   "name": "python",
   "nbconvert_exporter": "python",
   "pygments_lexer": "ipython3",
   "version": "3.9.13"
  },
  "toc": {
   "base_numbering": 1,
   "nav_menu": {},
   "number_sections": true,
   "sideBar": true,
   "skip_h1_title": false,
   "title_cell": "Table of Contents",
   "title_sidebar": "Contents",
   "toc_cell": false,
   "toc_position": {
    "height": "660px",
    "left": "35px",
    "top": "111.125px",
    "width": "203px"
   },
   "toc_section_display": true,
   "toc_window_display": true
  }
 },
 "nbformat": 4,
 "nbformat_minor": 5
}
