{
 "cells": [
  {
   "cell_type": "markdown",
   "id": "a647823e",
   "metadata": {},
   "source": [
    "<span style=\"font-weight: bold; font-size:30px; color:#2196F3\">11-3 데이터 필터링</span>"
   ]
  },
  {
   "cell_type": "markdown",
   "id": "cba1ddd8",
   "metadata": {},
   "source": [
    "만약 그룹화한 데이터에서 원하는 데이터를 걸러내고 싶다면 어떻게 해야 할까? 그럴 때는 데이터 필터링을 사용하면 된다. 데이터 필터링을 사용하면 기준에 맞는 데이터를 걸러낼 수 있다. 다음 예제를 통해 데이터 필터링이 무엇인지 알아보겠다."
   ]
  },
  {
   "cell_type": "markdown",
   "id": "c3a20f3e",
   "metadata": {},
   "source": [
    "\n"
   ]
  },
  {
   "cell_type": "markdown",
   "id": "10379724",
   "metadata": {},
   "source": [
    "### 데이터 필터링 사용하기 - filter 메서드\n",
    "#### 다음과 같이 tips 데이터 집합을 불러와 데이터 크기를 확인한다."
   ]
  },
  {
   "cell_type": "code",
   "execution_count": 9,
   "id": "dd3e2fb3",
   "metadata": {},
   "outputs": [
    {
     "name": "stdout",
     "output_type": "stream",
     "text": [
      "(244, 7)\n"
     ]
    }
   ],
   "source": [
    "import seaborn as sns\n",
    "\n",
    "tips = sns.load_dataset('tips')\n",
    "print(tips.shape)"
   ]
  },
  {
   "cell_type": "markdown",
   "id": "2d636353",
   "metadata": {},
   "source": [
    "\n"
   ]
  },
  {
   "cell_type": "markdown",
   "id": "f3b96d49",
   "metadata": {},
   "source": [
    "#### size 열의 데이터 수를 확인해 보면 1, 5, 6 테이블의 주문이 매우 적다는 것을 알 수 있다."
   ]
  },
  {
   "cell_type": "code",
   "execution_count": 3,
   "id": "0e106a05",
   "metadata": {},
   "outputs": [
    {
     "name": "stdout",
     "output_type": "stream",
     "text": [
      "2    156\n",
      "3     38\n",
      "4     37\n",
      "5      5\n",
      "1      4\n",
      "6      4\n",
      "Name: size, dtype: int64\n"
     ]
    }
   ],
   "source": [
    "print(tips['size'].value_counts())"
   ]
  },
  {
   "cell_type": "markdown",
   "id": "52b99855",
   "metadata": {},
   "source": [
    "\n"
   ]
  },
  {
   "cell_type": "markdown",
   "id": "fdaf4c77",
   "metadata": {},
   "source": [
    "#### 상황에 따라 이런 데이터는 제외하기도 한다. 만약 30번 이상의 주문이 있는 테이블만 추려 데이터 분석을 하려면 어떻게 해야 할까? 다음은 30번 이상의 주문이 있는 테이블만 그룹화하여 변수 tips_filtered에 저장한 것이다."
   ]
  },
  {
   "cell_type": "code",
   "execution_count": 4,
   "id": "ac78743b",
   "metadata": {},
   "outputs": [],
   "source": [
    "tips_filtered = tips.\\\n",
    "groupby('size').\\\n",
    "filter(lambda x: x['size'].count()>=30)"
   ]
  },
  {
   "cell_type": "markdown",
   "id": "f34b8726",
   "metadata": {},
   "source": [
    "\n"
   ]
  },
  {
   "cell_type": "markdown",
   "id": "4d9da2d1",
   "metadata": {},
   "source": [
    "#### 과정 3을 거치고 나면 1, 5, 6 테이블의 데이터가 제외되었다는 것을 알 수 있다."
   ]
  },
  {
   "cell_type": "code",
   "execution_count": 6,
   "id": "e4de5569",
   "metadata": {},
   "outputs": [
    {
     "name": "stdout",
     "output_type": "stream",
     "text": [
      "(231, 7)\n"
     ]
    }
   ],
   "source": [
    "print(tips_filtered.shape)"
   ]
  },
  {
   "cell_type": "code",
   "execution_count": 8,
   "id": "9e1294c9",
   "metadata": {},
   "outputs": [
    {
     "name": "stdout",
     "output_type": "stream",
     "text": [
      "2    156\n",
      "3     38\n",
      "4     37\n",
      "Name: size, dtype: int64\n"
     ]
    }
   ],
   "source": [
    "print(tips_filtered['size'].value_counts())"
   ]
  },
  {
   "cell_type": "markdown",
   "id": "48a1cb5a",
   "metadata": {},
   "source": [
    "\n"
   ]
  },
  {
   "cell_type": "markdown",
   "id": "a5dbc959",
   "metadata": {},
   "source": [
    "<span style=\"font-weight: bold; font-size:20px; color:Gray\">출처 : Do it! 데이터 분석을 위한 판다스</span>"
   ]
  },
  {
   "cell_type": "markdown",
   "id": "035f42c6",
   "metadata": {},
   "source": [
    "\n"
   ]
  }
 ],
 "metadata": {
  "kernelspec": {
   "display_name": "Python 3 (ipykernel)",
   "language": "python",
   "name": "python3"
  },
  "language_info": {
   "codemirror_mode": {
    "name": "ipython",
    "version": 3
   },
   "file_extension": ".py",
   "mimetype": "text/x-python",
   "name": "python",
   "nbconvert_exporter": "python",
   "pygments_lexer": "ipython3",
   "version": "3.9.13"
  },
  "toc": {
   "base_numbering": 1,
   "nav_menu": {},
   "number_sections": true,
   "sideBar": true,
   "skip_h1_title": false,
   "title_cell": "Table of Contents",
   "title_sidebar": "Contents",
   "toc_cell": false,
   "toc_position": {
    "height": "660px",
    "left": "35px",
    "top": "111.125px",
    "width": "165px"
   },
   "toc_section_display": true,
   "toc_window_display": true
  }
 },
 "nbformat": 4,
 "nbformat_minor": 5
}
