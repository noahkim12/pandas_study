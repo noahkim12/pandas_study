{
 "cells": [
  {
   "cell_type": "markdown",
   "id": "a647823e",
   "metadata": {},
   "source": [
    "<span style=\"font-weight: bold; font-size:40px; color:#2196F3\">03-2</span>\n",
    "# 시리즈 다루기 - 기초"
   ]
  },
  {
   "cell_type": "markdown",
   "id": "03fa4efa",
   "metadata": {},
   "source": [
    "판다스의 데이터를 구성하는 가장 기본 단위는 시리즈이다. 이번에는 데이터프레임에서 시리즈를 선택하는 방법에 대해 알아보겠다."
   ]
  },
  {
   "cell_type": "markdown",
   "id": "57532a62",
   "metadata": {},
   "source": [
    "### 데이터프레임에서 시리즈 선택하기\n",
    "\n"
   ]
  },
  {
   "cell_type": "markdown",
   "id": "dba9adf0",
   "metadata": {},
   "source": [
    "1. 먼저 변수 scientists에 데이터프레임을 준비한다."
   ]
  },
  {
   "cell_type": "code",
   "execution_count": 15,
   "id": "6885f49e",
   "metadata": {},
   "outputs": [],
   "source": [
    "scientists = pd.DataFrame(\n",
    "    data={'Occupation': ['Chemist' , 'Statistician'],\n",
    "         'Born' : ['1920-07-25', '1876-06-13'],\n",
    "         'Died' : ['1958-04-16', '1937-10-16'],\n",
    "         'Age' :[37, 61]},\n",
    "    index=['Rosaline Flanklyn', 'William Gosset'],\n",
    "    columns=['Occupation', 'Born', 'Died', 'Age'])"
   ]
  },
  {
   "cell_type": "markdown",
   "id": "eefe3730",
   "metadata": {},
   "source": [
    "\n"
   ]
  },
  {
   "cell_type": "markdown",
   "id": "bf3c3e38",
   "metadata": {},
   "source": [
    "2. 데이터프레임에서 시리즈를 확인하려면 loc 속성에 인덱스(과학자 이름)를 전달하면 된다. 정말 시리즈를 선택한 것인지 확인하기 위해 type으로 한번 더 검사한다."
   ]
  },
  {
   "cell_type": "code",
   "execution_count": 17,
   "id": "35ffe9d6",
   "metadata": {},
   "outputs": [
    {
     "name": "stdout",
     "output_type": "stream",
     "text": [
      "<class 'pandas.core.series.Series'>\n"
     ]
    }
   ],
   "source": [
    "first_row = scientists.loc['William Gosset']\n",
    "print(type(first_row))"
   ]
  },
  {
   "cell_type": "markdown",
   "id": "81a4e246",
   "metadata": {},
   "source": [
    "\n"
   ]
  },
  {
   "cell_type": "markdown",
   "id": "9df738a6",
   "metadata": {},
   "source": [
    "3. first_row를 출력해보겠다. 여기서 주목해야 할 점은 데이터프레임 리스트를 만들 때 Age 열에 정수형 리스트를 전달해도 시리즈(first_row)를 출력해 보면 시리즈의 자료형을 오브젝트로 인식한다는 점이다."
   ]
  },
  {
   "cell_type": "code",
   "execution_count": 19,
   "id": "1fa5fe02",
   "metadata": {},
   "outputs": [
    {
     "name": "stdout",
     "output_type": "stream",
     "text": [
      "Occupation    Statistician\n",
      "Born            1876-06-13\n",
      "Died            1937-10-16\n",
      "Age                     61\n",
      "Name: William Gosset, dtype: object\n"
     ]
    }
   ],
   "source": [
    "print(first_row)"
   ]
  },
  {
   "cell_type": "markdown",
   "id": "f98325ed",
   "metadata": {},
   "source": [
    "\n"
   ]
  },
  {
   "cell_type": "markdown",
   "id": "546836c7",
   "metadata": {},
   "source": [
    "<span style=\"font-weight: bold; font-size:20px; color:#2196F3\">시리즈 속성과 메서드 사용하기 - index, values, keys</span>\n",
    "\n",
    "01장에서 실습한 loc, iloc와 같은 속성 외에도 시리즈에는 다양한 속성이 미리 정의되어 있다. 이번에는 index, values 속성과 keys 메서드에 대해 알아보겠다."
   ]
  },
  {
   "cell_type": "markdown",
   "id": "d7cac0c6",
   "metadata": {},
   "source": [
    "### index, values 속성과 keys 메서드 사용하기\n",
    "#### 1. index 속성 사용하기\n",
    "먼저 index 속성을 사용해 보자. index 속성에는 시리즈의 인덱스가 들어있다."
   ]
  },
  {
   "cell_type": "code",
   "execution_count": 20,
   "id": "95410686",
   "metadata": {},
   "outputs": [
    {
     "name": "stdout",
     "output_type": "stream",
     "text": [
      "Index(['Occupation', 'Born', 'Died', 'Age'], dtype='object')\n"
     ]
    }
   ],
   "source": [
    "print(first_row.index)"
   ]
  },
  {
   "cell_type": "markdown",
   "id": "f1f8cf11",
   "metadata": {},
   "source": [
    "\n"
   ]
  },
  {
   "cell_type": "markdown",
   "id": "065d5172",
   "metadata": {},
   "source": [
    "#### 2. values 속성 사용하기\n",
    "values 속성에는 시리즈의 데이터가 저장되어 있다."
   ]
  },
  {
   "cell_type": "code",
   "execution_count": 21,
   "id": "4b3243f5",
   "metadata": {},
   "outputs": [
    {
     "name": "stdout",
     "output_type": "stream",
     "text": [
      "['Statistician' '1876-06-13' '1937-10-16' 61]\n"
     ]
    }
   ],
   "source": [
    "print(first_row.values)"
   ]
  },
  {
   "cell_type": "markdown",
   "id": "df923714",
   "metadata": {},
   "source": [
    "\n"
   ]
  },
  {
   "cell_type": "markdown",
   "id": "15bbc06d",
   "metadata": {},
   "source": [
    "#### 3. keys 메서드 사용하기\n",
    "values 속성에는 시리즈의 데이터가 저장되어 있다."
   ]
  },
  {
   "cell_type": "code",
   "execution_count": 23,
   "id": "26718ba8",
   "metadata": {},
   "outputs": [
    {
     "name": "stdout",
     "output_type": "stream",
     "text": [
      "Index(['Occupation', 'Born', 'Died', 'Age'], dtype='object')\n"
     ]
    }
   ],
   "source": [
    "print(first_row.keys())"
   ]
  },
  {
   "cell_type": "markdown",
   "id": "91100199",
   "metadata": {},
   "source": [
    "\n"
   ]
  },
  {
   "cell_type": "markdown",
   "id": "1c1a1adb",
   "metadata": {},
   "source": [
    "#### 4. index 속성 응용하기\n",
    "만약 index 속성의 첫 번째 값을 추출하려면 다음과 같이 코드를 작성하면 된다."
   ]
  },
  {
   "cell_type": "code",
   "execution_count": 24,
   "id": "04e7a024",
   "metadata": {},
   "outputs": [
    {
     "name": "stdout",
     "output_type": "stream",
     "text": [
      "Occupation\n"
     ]
    }
   ],
   "source": [
    "print(first_row.index[0])"
   ]
  },
  {
   "cell_type": "markdown",
   "id": "7ff136fb",
   "metadata": {},
   "source": [
    "\n"
   ]
  },
  {
   "cell_type": "markdown",
   "id": "b4b77147",
   "metadata": {},
   "source": [
    "#### 5. keys 메서드 응용하기\n",
    "keys 메서드의 결과값을 이용하여 인덱스의 첫 번째 값을 추출하는 방법은 다음과 같다."
   ]
  },
  {
   "cell_type": "code",
   "execution_count": 26,
   "id": "ae483340",
   "metadata": {},
   "outputs": [
    {
     "name": "stdout",
     "output_type": "stream",
     "text": [
      "Occupation\n"
     ]
    }
   ],
   "source": [
    "print(first_row.keys()[0])"
   ]
  },
  {
   "cell_type": "markdown",
   "id": "e1b9a0bf",
   "metadata": {},
   "source": [
    "\n"
   ]
  },
  {
   "cell_type": "markdown",
   "id": "fc6db69f",
   "metadata": {},
   "source": [
    "<span style=\"font-weight: bold; font-size:20px; color:#2196F3\">시리즈의 기초 통계 메서드 사용하기</span>\n",
    "\n",
    "시리즈에는 keys 메서드 외에도 다양한 메서드가 있다. 이번에는 시리즈에 미리 정의 되어 있는 mean, min, max, std 메서드의 사용 방법을 알아보겠다."
   ]
  },
  {
   "cell_type": "markdown",
   "id": "c5548cbd",
   "metadata": {},
   "source": [
    "### 시리즈의 meam, min, max, std 메서드 사용하기\n",
    "1. 이번에는 scientists의 age 열을 추출해 보겠다."
   ]
  },
  {
   "cell_type": "code",
   "execution_count": 28,
   "id": "44d599e7",
   "metadata": {},
   "outputs": [
    {
     "name": "stdout",
     "output_type": "stream",
     "text": [
      "Rosaline Flanklyn    37\n",
      "William Gosset       61\n",
      "Name: Age, dtype: int64\n"
     ]
    }
   ],
   "source": [
    "ages = scientists['Age']\n",
    "print(ages)"
   ]
  },
  {
   "cell_type": "markdown",
   "id": "375606be",
   "metadata": {},
   "source": [
    "\n"
   ]
  },
  {
   "cell_type": "markdown",
   "id": "7334c0ae",
   "metadata": {},
   "source": [
    "2. 만약 시리즈를 구성하는 데이터가 정수라면 mean, min, max, std와 같은 통계 메서드를 사용할 수 있다."
   ]
  },
  {
   "cell_type": "code",
   "execution_count": 32,
   "id": "75dfef60",
   "metadata": {},
   "outputs": [
    {
     "name": "stdout",
     "output_type": "stream",
     "text": [
      "49.0\n"
     ]
    }
   ],
   "source": [
    "print(ages.mean())"
   ]
  },
  {
   "cell_type": "code",
   "execution_count": 33,
   "id": "355f67a1",
   "metadata": {},
   "outputs": [
    {
     "name": "stdout",
     "output_type": "stream",
     "text": [
      "37\n"
     ]
    }
   ],
   "source": [
    "print(ages.min())"
   ]
  },
  {
   "cell_type": "code",
   "execution_count": 34,
   "id": "3628c9c0",
   "metadata": {},
   "outputs": [
    {
     "name": "stdout",
     "output_type": "stream",
     "text": [
      "61\n"
     ]
    }
   ],
   "source": [
    "print(ages.max())"
   ]
  },
  {
   "cell_type": "code",
   "execution_count": 35,
   "id": "8751f0e0",
   "metadata": {},
   "outputs": [
    {
     "name": "stdout",
     "output_type": "stream",
     "text": [
      "16.97056274847714\n"
     ]
    }
   ],
   "source": [
    "print(ages.std())"
   ]
  },
  {
   "cell_type": "markdown",
   "id": "f9d7b003",
   "metadata": {},
   "source": [
    "\n"
   ]
  },
  {
   "cell_type": "markdown",
   "id": "ad912d81",
   "metadata": {},
   "source": [
    "다음은 시리즈에서 자주 사용하는 메서드를 정리한 표이다. 앞으로 종종 사용할 메서드이므로 읽어 보고 넘어가자."
   ]
  },
  {
   "cell_type": "markdown",
   "id": "11b80cb0",
   "metadata": {},
   "source": [
    "| 시리즈 메서드 | 설명 |\n",
    "|:---: |:---: |\n",
    "| append | 2개 이상의 시리즈 연결 |\n",
    "| describe | 요약 통계량 계산 |\n",
    "| drop_duplicates | 중복값이 없는 시리즈 반환 |\n",
    "| get_values | 시리즈 값 구하기(values 속성과 동일) |\n",
    "| isin | 시리즈에 포함된 값이 있는지 확인 |\n",
    "| min | 최솟값 반환 |\n",
    "| max | 최댓값 반환 |\n",
    "| mean | 산술 평균 반환 |\n",
    "| median | 중간값 반환 |\n",
    "| replace | 특정 값을 가진 시리즈 값을 교체 |\n",
    "| sample | 시리즈에서 임의의 값을 반환 |\n",
    "| sort_values | 값을 정렬 |\n",
    "| to_frame | 시리즈를 데이터프레임으로 변환 |"
   ]
  },
  {
   "cell_type": "markdown",
   "id": "cf02f06c",
   "metadata": {},
   "source": [
    "\n"
   ]
  },
  {
   "cell_type": "markdown",
   "id": "a5dbc959",
   "metadata": {},
   "source": [
    "<span style=\"font-weight: bold; font-size:20px; color:Gray\">출처 : Do it! 데이터 분석을 위한 판다스</span>"
   ]
  },
  {
   "cell_type": "markdown",
   "id": "035f42c6",
   "metadata": {},
   "source": [
    "\n"
   ]
  }
 ],
 "metadata": {
  "kernelspec": {
   "display_name": "Python 3 (ipykernel)",
   "language": "python",
   "name": "python3"
  },
  "language_info": {
   "codemirror_mode": {
    "name": "ipython",
    "version": 3
   },
   "file_extension": ".py",
   "mimetype": "text/x-python",
   "name": "python",
   "nbconvert_exporter": "python",
   "pygments_lexer": "ipython3",
   "version": "3.9.13"
  }
 },
 "nbformat": 4,
 "nbformat_minor": 5
}
