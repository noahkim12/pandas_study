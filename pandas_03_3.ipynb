{
 "cells": [
  {
   "cell_type": "markdown",
   "id": "a647823e",
   "metadata": {},
   "source": [
    "<span style=\"font-weight: bold; font-size:40px; color:#2196F3\">03-3</span>\n",
    "# 시리즈 다루기 - 응용"
   ]
  },
  {
   "cell_type": "markdown",
   "id": "03fa4efa",
   "metadata": {},
   "source": [
    "<span style=\"font-weight: bold; font-size:20px; color:#2196F3\">시리즈와 불린 추출</span>\n",
    "\n",
    "02장에서는 원하는 데이터를 추출할 때 특정 인덱스를 지정하여 추출했다. 하지만 보통은 추출한 데이터의 정확한 인덱스를 모르는 경우가 더 많다. 이런 경우에 사용하는 방법이 불린 추출이다. 불린 추출은 특정 조건에 만족하는 값만 추출할 수 있다."
   ]
  },
  {
   "cell_type": "markdown",
   "id": "57532a62",
   "metadata": {},
   "source": [
    "### 시리즈와 불린 추출 사용하기\n"
   ]
  },
  {
   "cell_type": "markdown",
   "id": "dba9adf0",
   "metadata": {},
   "source": [
    "1. 이번에는 'scientists.csv'라는 이름의 데이터를 불러온다."
   ]
  },
  {
   "cell_type": "code",
   "execution_count": 44,
   "id": "6885f49e",
   "metadata": {},
   "outputs": [],
   "source": [
    "import pandas as pd\n",
    "scientists = pd.read_csv('doit_pandas_data/data/scientists.csv')"
   ]
  },
  {
   "cell_type": "markdown",
   "id": "eefe3730",
   "metadata": {},
   "source": [
    "\n"
   ]
  },
  {
   "cell_type": "markdown",
   "id": "bf3c3e38",
   "metadata": {},
   "source": [
    "2. 통계 수치의 결괏값을 이용하여 불린 추출을 진행해 보겠다. 다음은 Age 열을 추출하여 max, mean 메서드를 사용한 것이다."
   ]
  },
  {
   "cell_type": "code",
   "execution_count": 45,
   "id": "35ffe9d6",
   "metadata": {},
   "outputs": [
    {
     "name": "stdout",
     "output_type": "stream",
     "text": [
      "90\n"
     ]
    }
   ],
   "source": [
    "ages = scientists['Age']\n",
    "print(ages.max())"
   ]
  },
  {
   "cell_type": "code",
   "execution_count": 46,
   "id": "e0bf57cb",
   "metadata": {},
   "outputs": [
    {
     "name": "stdout",
     "output_type": "stream",
     "text": [
      "59.125\n"
     ]
    }
   ],
   "source": [
    "print(ages.mean())"
   ]
  },
  {
   "cell_type": "markdown",
   "id": "81a4e246",
   "metadata": {},
   "source": [
    "\n"
   ]
  },
  {
   "cell_type": "markdown",
   "id": "9df738a6",
   "metadata": {},
   "source": [
    "3. 이제 불린 추출을 사용할 차례이다. 예를 들어 평균 나이보다 나이가 많은 사람의 데이터를 추출하려면 어떻게 해야 할까? 다음 코드를 실행하면 평균 나이보다 나이가 많은 사람의 데이터만 출력된다."
   ]
  },
  {
   "cell_type": "code",
   "execution_count": 47,
   "id": "1fa5fe02",
   "metadata": {},
   "outputs": [
    {
     "name": "stdout",
     "output_type": "stream",
     "text": [
      "1    61\n",
      "2    90\n",
      "3    66\n",
      "7    77\n",
      "Name: Age, dtype: int64\n"
     ]
    }
   ],
   "source": [
    "print(ages[ages > ages.mean()])"
   ]
  },
  {
   "cell_type": "markdown",
   "id": "f98325ed",
   "metadata": {},
   "source": [
    "\n"
   ]
  },
  {
   "cell_type": "markdown",
   "id": "546836c7",
   "metadata": {},
   "source": [
    "4. 그런데 어떻게 이런 일이 가능할까? 먼저 ages > ages.mean()의 결과를 출력해 보겠다. 그러면 1, 2, 3, 7 인덱스의 데이터가 참(True)이라는 것을 알 수 있다. 즉, 조건식을 만족한 값만 출력된 것이다."
   ]
  },
  {
   "cell_type": "code",
   "execution_count": 48,
   "id": "95410686",
   "metadata": {},
   "outputs": [
    {
     "name": "stdout",
     "output_type": "stream",
     "text": [
      "0    False\n",
      "1     True\n",
      "2     True\n",
      "3     True\n",
      "4    False\n",
      "5    False\n",
      "6    False\n",
      "7     True\n",
      "Name: Age, dtype: bool\n"
     ]
    }
   ],
   "source": [
    "print(ages > ages.mean())"
   ]
  },
  {
   "cell_type": "markdown",
   "id": "f1f8cf11",
   "metadata": {},
   "source": [
    "\n"
   ]
  },
  {
   "cell_type": "markdown",
   "id": "065d5172",
   "metadata": {},
   "source": [
    "5. 과정 3과 4를 모두 합친 코드는 다음과 같다. 즉, 리스트 형태로 참이나 거짓을 담아 시리즈에 전달하면 참인 인덱스의 데이터만 추출할 수 있다. 바로 이것을 불린 추출이라고 한다."
   ]
  },
  {
   "cell_type": "code",
   "execution_count": 49,
   "id": "4b3243f5",
   "metadata": {},
   "outputs": [],
   "source": [
    "manual_bool_values = [True, True, False, False, True, True, False, True]"
   ]
  },
  {
   "cell_type": "markdown",
   "id": "df923714",
   "metadata": {},
   "source": [
    "\n"
   ]
  },
  {
   "cell_type": "markdown",
   "id": "fc6db69f",
   "metadata": {},
   "source": [
    "<span style=\"font-weight: bold; font-size:20px; color:#2196F3\">시리즈와 브로드캐스팅</span>\n",
    "\n",
    "그런데 ages > ages.mean()의 결괏값에 개수가 여러 개라는 것이 이상하지 않았나? 이렇게 시리즈나 데이터프레임에 있는 모든 데이터에 대해 한 번에 연산하는 것을 브로드캐스팅(Broadcasting)이라고 합니다. 그리고 시리즈처럼 여러 개의 값을 가진 데이터를 벡터라 하고 단순 크기를 나타내는 데이터를 스칼라라고 한다. 앞으로 벡터와 스칼라라는 용어는 자주 사용하므로 기억해 두기 바란다."
   ]
  },
  {
   "cell_type": "markdown",
   "id": "c5548cbd",
   "metadata": {},
   "source": [
    "### 벡터와 스칼라로 브로드캐스팅 수행하기\n",
    "1. 다음은 같은 길이의 벡터로 더하기 연산과 곱하기 연산을 수행한 것이다. 결괏값으로 같은 길이의 벡터가 출력된다."
   ]
  },
  {
   "cell_type": "code",
   "execution_count": 50,
   "id": "44d599e7",
   "metadata": {},
   "outputs": [
    {
     "name": "stdout",
     "output_type": "stream",
     "text": [
      "0     74\n",
      "1    122\n",
      "2    180\n",
      "3    132\n",
      "4    112\n",
      "5     90\n",
      "6     82\n",
      "7    154\n",
      "Name: Age, dtype: int64\n"
     ]
    }
   ],
   "source": [
    "print(ages + ages)"
   ]
  },
  {
   "cell_type": "code",
   "execution_count": 51,
   "id": "369239f8",
   "metadata": {},
   "outputs": [
    {
     "name": "stdout",
     "output_type": "stream",
     "text": [
      "0    1369\n",
      "1    3721\n",
      "2    8100\n",
      "3    4356\n",
      "4    3136\n",
      "5    2025\n",
      "6    1681\n",
      "7    5929\n",
      "Name: Age, dtype: int64\n"
     ]
    }
   ],
   "source": [
    "print(ages * ages)"
   ]
  },
  {
   "cell_type": "markdown",
   "id": "375606be",
   "metadata": {},
   "source": [
    "\n"
   ]
  },
  {
   "cell_type": "markdown",
   "id": "7334c0ae",
   "metadata": {},
   "source": [
    "2. 만약 벡터에 스칼라를 연산하면 어떻게 될까? 다음은 벡터의 모든 값에 스칼라를 적용하여 브로드캐스팅한 결과이다."
   ]
  },
  {
   "cell_type": "code",
   "execution_count": 52,
   "id": "75dfef60",
   "metadata": {},
   "outputs": [
    {
     "name": "stdout",
     "output_type": "stream",
     "text": [
      "0    137\n",
      "1    161\n",
      "2    190\n",
      "3    166\n",
      "4    156\n",
      "5    145\n",
      "6    141\n",
      "7    177\n",
      "Name: Age, dtype: int64\n"
     ]
    }
   ],
   "source": [
    "print(ages + 100)"
   ]
  },
  {
   "cell_type": "code",
   "execution_count": 53,
   "id": "355f67a1",
   "metadata": {},
   "outputs": [
    {
     "name": "stdout",
     "output_type": "stream",
     "text": [
      "0     74\n",
      "1    122\n",
      "2    180\n",
      "3    132\n",
      "4    112\n",
      "5     90\n",
      "6     82\n",
      "7    154\n",
      "Name: Age, dtype: int64\n"
     ]
    }
   ],
   "source": [
    "print(ages * 2)"
   ]
  },
  {
   "cell_type": "markdown",
   "id": "1431ff85",
   "metadata": {},
   "source": [
    "\n"
   ]
  },
  {
   "cell_type": "markdown",
   "id": "45a36be2",
   "metadata": {},
   "source": [
    "길이가 서로 다른 벡터를 연산하면 어떻게 될까? 시리즈와 시리즈를 연산하는 경우 같은 인덱스의 값만 계산한다. 다음은 데이터의 개수가 2개이니 시리즈와 8개인 시리즈를 더한것이다. 결괏값을 살펴보면 인덱스가 일치한 0, 1만 계산했다는 것을 알 수 있다. 나머지 인덱스(2~7)는 계산할 수 없기 때문에 누락값(NaN)으로 처리한다"
   ]
  },
  {
   "cell_type": "code",
   "execution_count": 54,
   "id": "8751f0e0",
   "metadata": {},
   "outputs": [
    {
     "name": "stdout",
     "output_type": "stream",
     "text": [
      "0       1\n",
      "1     100\n",
      "2    1000\n",
      "dtype: int64\n"
     ]
    }
   ],
   "source": [
    "print(pd.Series([1, 100, 1000]))"
   ]
  },
  {
   "cell_type": "code",
   "execution_count": 55,
   "id": "e90f5c19",
   "metadata": {},
   "outputs": [
    {
     "name": "stdout",
     "output_type": "stream",
     "text": [
      "0    38.0\n",
      "1    71.0\n",
      "2     NaN\n",
      "3     NaN\n",
      "4     NaN\n",
      "5     NaN\n",
      "6     NaN\n",
      "7     NaN\n",
      "dtype: float64\n"
     ]
    }
   ],
   "source": [
    "print(ages + pd.Series([1, 10]))"
   ]
  },
  {
   "cell_type": "markdown",
   "id": "f9d7b003",
   "metadata": {},
   "source": [
    "\n"
   ]
  },
  {
   "cell_type": "markdown",
   "id": "ad912d81",
   "metadata": {},
   "source": [
    "4. 다음은 sort_index 메서드를 사용한 것이다. 이때 ascending 인자로 False를 전달하여 인덱스 역순으로 데이터를 정렬했다.\n",
    "\n",
    "(데이터의 역순이 아니다.)"
   ]
  },
  {
   "cell_type": "code",
   "execution_count": 56,
   "id": "70e1188c",
   "metadata": {},
   "outputs": [
    {
     "name": "stdout",
     "output_type": "stream",
     "text": [
      "7    77\n",
      "6    41\n",
      "5    45\n",
      "4    56\n",
      "3    66\n",
      "2    90\n",
      "1    61\n",
      "0    37\n",
      "Name: Age, dtype: int64\n"
     ]
    }
   ],
   "source": [
    "rev_ages = ages.sort_index(ascending=False)\n",
    "print(rev_ages)"
   ]
  },
  {
   "cell_type": "markdown",
   "id": "cc6e7ea6",
   "metadata": {},
   "source": [
    "\n"
   ]
  },
  {
   "cell_type": "markdown",
   "id": "efcaf5f9",
   "metadata": {},
   "source": [
    "5. 인덱스 순서대로 정렬된 ages와 인덱스의 역순으로 정렬된 rev_age를 연산하면 어떻게 될까? ages의 데이터와 데이터를 순서대로 더할 것 같지만 그렇지 않다. 다음은 ages * 2와 ages + rev_ages의 결과값을 출력한 것이다. ages * 2와 ages + rev_ages의 결괏값이 동일하다. ages의 인덱스(0:7)와 rev_ages의 인덱스(0:7)가 일치하는 값끼리 연산했기 떄문이다. 벡터와 벡터의 연산은 일치하는 인덱스의 값끼리 수행한다는 것을 잊지 말아야 한다. "
   ]
  },
  {
   "cell_type": "code",
   "execution_count": 57,
   "id": "13522024",
   "metadata": {},
   "outputs": [
    {
     "name": "stdout",
     "output_type": "stream",
     "text": [
      "0     74\n",
      "1    122\n",
      "2    180\n",
      "3    132\n",
      "4    112\n",
      "5     90\n",
      "6     82\n",
      "7    154\n",
      "Name: Age, dtype: int64\n"
     ]
    }
   ],
   "source": [
    "print(ages * 2)"
   ]
  },
  {
   "cell_type": "code",
   "execution_count": 58,
   "id": "a6e117ab",
   "metadata": {},
   "outputs": [
    {
     "name": "stdout",
     "output_type": "stream",
     "text": [
      "0     74\n",
      "1    122\n",
      "2    180\n",
      "3    132\n",
      "4    112\n",
      "5     90\n",
      "6     82\n",
      "7    154\n",
      "Name: Age, dtype: int64\n"
     ]
    }
   ],
   "source": [
    "print(ages + rev_ages)"
   ]
  },
  {
   "cell_type": "markdown",
   "id": "cf02f06c",
   "metadata": {},
   "source": [
    "\n"
   ]
  },
  {
   "cell_type": "markdown",
   "id": "a5dbc959",
   "metadata": {},
   "source": [
    "<span style=\"font-weight: bold; font-size:20px; color:Gray\">출처 : Do it! 데이터 분석을 위한 판다스</span>"
   ]
  },
  {
   "cell_type": "markdown",
   "id": "035f42c6",
   "metadata": {},
   "source": [
    "\n"
   ]
  }
 ],
 "metadata": {
  "kernelspec": {
   "display_name": "Python 3 (ipykernel)",
   "language": "python",
   "name": "python3"
  },
  "language_info": {
   "codemirror_mode": {
    "name": "ipython",
    "version": 3
   },
   "file_extension": ".py",
   "mimetype": "text/x-python",
   "name": "python",
   "nbconvert_exporter": "python",
   "pygments_lexer": "ipython3",
   "version": "3.9.13"
  }
 },
 "nbformat": 4,
 "nbformat_minor": 5
}
