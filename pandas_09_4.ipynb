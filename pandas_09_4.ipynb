{
 "cells": [
  {
   "cell_type": "markdown",
   "id": "a647823e",
   "metadata": {},
   "source": [
    "<span style=\"font-weight: bold; font-size:30px; color:#2196F3\">09-4 정규식으로 문자열 처리에 날개 달기</span>"
   ]
  },
  {
   "cell_type": "markdown",
   "id": "cba1ddd8",
   "metadata": {},
   "source": [
    "<span style=\"font-weight: bold; font-size:20px; color:black\">정규식이란?</span><br>수만 개의 문자열 중에서 내가 원하는 패턴의 문자열만 추출하려면 어떻게 해야 할까? 예를 들어 I like apple, I like to make application이라는 문자열에서 app을 포함하는 문자열만 추출하려면 어떻게 해야 할까? find 메서드를 사용해도 되지만 이런 경우에는 정규식을 사용하면 더 편리하다. 그러면 정규식이 무엇인지 실습을 통해 자세히 알아보자."
   ]
  },
  {
   "cell_type": "markdown",
   "id": "24561281",
   "metadata": {},
   "source": [
    "\n"
   ]
  },
  {
   "cell_type": "markdown",
   "id": "10379724",
   "metadata": {},
   "source": [
    "### 정규식 표현 - 문법, 특수 문자\n",
    "#### 정규식 표현에 사용되는 문법과 특수 문자를 다음과 같이 표로 정리했다. 정규식을 사용하려면 다음 표를 참고하여 찾고자 하는 문자열의 정규식 패턴을 만들어야 한다. https://regex101.com 사이트에서 정규식 패턴을 실습해 보는 것을 추천한다. 이 사이트는 정규식 패턴의 결과를 바로 볼 수 있어 실습에 많은 도움이 될 것이다. 아래 표를 참고하여 실습 코드를 작성하고 결과를 확인해보자."
   ]
  },
  {
   "cell_type": "markdown",
   "id": "2d636353",
   "metadata": {},
   "source": [
    "\n"
   ]
  },
  {
   "cell_type": "markdown",
   "id": "f3b96d49",
   "metadata": {},
   "source": [
    "#### 기본 정규식 문법"
   ]
  },
  {
   "cell_type": "markdown",
   "id": "2e73441c",
   "metadata": {},
   "source": [
    "| 문법 | 실습 코드 | 설명 |\n",
    "|:---: |:---: | :---: |\n",
    "| . | .a | 문자(a) 앞에 문자 1개가 있는 패턴을 찾는다. | \n",
    "| ^ | ^I like | 문자열의 처음부터 일치하는 패턴을 찾는다. |\n",
    "| ＄ | on$ | 문자열의 끝 부분부터 일치하는 패턴을 찾는다. |\n",
    "| * | n\\d* | n 이후 숫자(\\d)가 0개 이상인 패턴을 찾는다. |\n",
    "| + | n\\d+ | n 이후 숫자(\\d)가 1개 이상인 패턴을 찾는다. |\n",
    "| ? | apple? | ?의 앞의 문자(e)가 있거나 없는 패턴을 찾는다. |\n",
    "| {m} | n\\d{2} | n 이후 숫자(\\d)가 2개 {(2})인 패턴을 찾는다. |\n",
    "| {m, n} | n\\d{2, 4} | n 이후 숫자(\\d)가 2개({2}) 이상, 2개({4})이하인 패턴을 찾는다. |\n",
    "| \\ | \\*, \\?, \\+ | *, ?, +와 같은 특수 문자를 검색할 때 이스케이프 문자(\\)를 사용한다. |\n",
    "| [] | [cfh]all | c, f, h 중 1개를 포함하고 나머지 문자열이 all인 패턴을 찾는다. |\n",
    "| ｜ | apple｜application | apple이나 application 중 하나만 있는 패턴을 찾는다(OR 연산). |\n",
    "| () | (\\d+)-(\\d+)-(\\d+) | ()에 지정한 패턴을 찾을 때 사용한다. |"
   ]
  },
  {
   "cell_type": "markdown",
   "id": "bf2673ac",
   "metadata": {},
   "source": [
    "#### 정규식 특수 문자"
   ]
  },
  {
   "cell_type": "markdown",
   "id": "bbf40c18",
   "metadata": {},
   "source": [
    "| 특수 문자 | 설명 |\n",
    "|:---: |:---: |\n",
    "| \\d | 숫자 1개를 의미한다([0-9]와 동일). |\n",
    "| \\D | 숫자 이외의 문자 1개를 의미한다([^0-9]와 동일) |\n",
    "| \\s | 공백이나 탭 1개를 의미한다. |\n",
    "| \\S | 공백 문자 이외의 문자 1개를 의미한다. |\n",
    "| \\w | 알파벳 1개를 의미한다. |\n",
    "| \\W | 알파벳 이외의 문자 1개를 의미한다(한글, 중국어 등). |"
   ]
  },
  {
   "cell_type": "markdown",
   "id": "302921dc",
   "metadata": {},
   "source": [
    "\n"
   ]
  },
  {
   "cell_type": "markdown",
   "id": "40a26c48",
   "metadata": {},
   "source": [
    "### 정규식 표현 - 메서드\n",
    "다음은 정규식 메서드이다. 정규식 메서드는 정규식 패턴을 사용하지 않아도 메서드를 호출하는 방법으로 원하는 패턴의 문자열을 찾을 수 있도록 해준다."
   ]
  },
  {
   "cell_type": "markdown",
   "id": "9f22b036",
   "metadata": {},
   "source": [
    "\n"
   ]
  },
  {
   "cell_type": "markdown",
   "id": "61603fab",
   "metadata": {},
   "source": [
    "#### 정규식 메서드"
   ]
  },
  {
   "cell_type": "markdown",
   "id": "35c12bc8",
   "metadata": {},
   "source": [
    "| 함수 | 실습 코드 | 설명 |\n",
    "|:---: |:---: | :---: |\n",
    "| <p style=\"text-align:left\">search | <p style=\"text-align:left\">m = re.search('[0-9]{4}', test))<br>print(m.group( ))) | <p style=\"text-align:left\">첫 번째로 찾은 패턴의 양 끝 인덱스를 반환한다. | \n",
    "| <p style=\"text-align:left\">match | <p style=\"text-align:left\">m = re.match('[0-9]{4}', test))<br>print(m) | <p style=\"text-align:left\">문자열의 처음부터 검색하여 찾아낸 패턴의 양 끝 인덱스를 반환한다. |\n",
    "| <p style=\"text-align:left\">fullmatch | <p style=\"text-align:left\">m = re.fullmatch('\\d+\\s\\d+\\s\\d+\\s\\d+', test)<br>print(bool(m)) | <p style=\"text-align:left\">전체 문자열이 일치하는지 검사한다. |\n",
    "| <p style=\"text-align:left\">split | <p style=\"text-align:left\">m = re.split('\\s', test)<br>print(m) | <p style=\"text-align:left\">지정한 패턴으로 잘라낸 문자열을 리스트로 반환한다. |\n",
    "| <p style=\"text-align:left\">findall | <p style=\"text-align:left\">m = re.findall('[0-9]{4}', test)<br>print(m) | <p style=\"text-align:left\">n 이후 숫자(\\d)가 1개 이상인 패턴을 찾는다. |\n",
    "| <p style=\"text-align:left\">finditer | <p style=\"text-align:left\">m = re.finditer('[0-9]{4}, test')<br>for match in m: | <p style=\"text-align:left\">findall 메서드와 기능이 동일하지만 iterator를 반환한다. |\n",
    "| <p style=\"text-align:left\">sub | <p style=\"text-align:left\">print(re.sub('\\s', '-', test))<br>'010-1234-5678-900' | 첫 번째 인자로 전달한 값(패턴)을 두 번째 인자로 전달한 값(easyspub)으로 교체한다. |"
   ]
  },
  {
   "cell_type": "markdown",
   "id": "f34b8726",
   "metadata": {},
   "source": [
    "\n"
   ]
  },
  {
   "cell_type": "markdown",
   "id": "4d9da2d1",
   "metadata": {},
   "source": [
    "### 정규식으로 전화번호 패턴 찾기"
   ]
  },
  {
   "cell_type": "markdown",
   "id": "3ec10989",
   "metadata": {},
   "source": [
    "전화번호와 같은 단순한 데이터도 복잡하고 다양한 정규식이 필요하다. 처음에는 정규식이 복잡하고 어려워 보여 부담스러울 수 있다. 하지만 정규식은 원하는 패턴의 문자열을 가장 효율적으로 찾아주는 방법이다. 따라서 데이터 분석이 필요한 분야에서는 정규식을 알아두면 좋다."
   ]
  },
  {
   "cell_type": "markdown",
   "id": "1259ccca",
   "metadata": {},
   "source": [
    "\n"
   ]
  },
  {
   "cell_type": "markdown",
   "id": "8af1e6e4",
   "metadata": {},
   "source": [
    "#### 다음과 같이 re 모듈과 테스트용 문자열을 준비한다."
   ]
  },
  {
   "cell_type": "code",
   "execution_count": 26,
   "id": "04e7c554",
   "metadata": {},
   "outputs": [],
   "source": [
    "import re\n",
    "\n",
    "tele_num = '1234567890'"
   ]
  },
  {
   "cell_type": "markdown",
   "id": "fe44b615",
   "metadata": {},
   "source": [
    "\n"
   ]
  },
  {
   "cell_type": "markdown",
   "id": "85d991d7",
   "metadata": {},
   "source": [
    "#### match 메서드를 사용하여 길이가 10인 숫자를 확인해 보겠다. pattern 인자에는 10개의 숫자를 의미하는 10개의 \\d,  string에는 테스트용 문자열은 tele_num을 전달했습니다. 만약 패턴을 찾으면 Match 오브젝트를 반환한다. Match 오브젝트를 출력하면 span에는 찾은 패턴의 인덱스가, match에는 찾은 패턴의 문자열이 있는 것을 확인할 수 있다."
   ]
  },
  {
   "cell_type": "code",
   "execution_count": 28,
   "id": "d38fef5f",
   "metadata": {},
   "outputs": [
    {
     "name": "stdout",
     "output_type": "stream",
     "text": [
      "<class 're.Match'>\n"
     ]
    }
   ],
   "source": [
    "m = re.match(pattern='\\d\\d\\d\\d\\d\\d\\d\\d\\d\\d', string=tele_num)\n",
    "print(type(m))"
   ]
  },
  {
   "cell_type": "code",
   "execution_count": 30,
   "id": "cf641cf6",
   "metadata": {},
   "outputs": [
    {
     "name": "stdout",
     "output_type": "stream",
     "text": [
      "<re.Match object; span=(0, 10), match='1234567890'>\n"
     ]
    }
   ],
   "source": [
    "print(m)"
   ]
  },
  {
   "cell_type": "markdown",
   "id": "5e56ad0a",
   "metadata": {},
   "source": [
    "\n"
   ]
  },
  {
   "cell_type": "markdown",
   "id": "bd3d1541",
   "metadata": {},
   "source": [
    "#### 이때 bool 메서드에 m을 전달하면 True나 False를 얻을 수 있다. 즉, match 메서드가 반환한 Match 오브젝트는 bool 메서드로 True, False를 판단할 수 있다."
   ]
  },
  {
   "cell_type": "code",
   "execution_count": 32,
   "id": "18de6ae5",
   "metadata": {},
   "outputs": [
    {
     "name": "stdout",
     "output_type": "stream",
     "text": [
      "True\n"
     ]
    }
   ],
   "source": [
    "print(bool(m))"
   ]
  },
  {
   "cell_type": "code",
   "execution_count": 34,
   "id": "25ef95f4",
   "metadata": {},
   "outputs": [
    {
     "name": "stdout",
     "output_type": "stream",
     "text": [
      "match\n"
     ]
    }
   ],
   "source": [
    "if m:\n",
    "    print('match')\n",
    "else:\n",
    "    print('no match')"
   ]
  },
  {
   "cell_type": "markdown",
   "id": "74ebd305",
   "metadata": {},
   "source": [
    "\n"
   ]
  },
  {
   "cell_type": "markdown",
   "id": "ba754301",
   "metadata": {},
   "source": [
    "#### Match 오브젝트에는 찾아낸 패턴의 정보를 확인할 수 있는 다양한 메서드가 있다. start와 end 메서드는 첫 번째와 마지막 인덱스를 반환한다. span 메서드는 찾은 패턴의 첫번째와 마지막 인덱스를 한 번에 반환한다. group 메서드는 찾아낸 패턴을 반환한다."
   ]
  },
  {
   "cell_type": "code",
   "execution_count": 37,
   "id": "68d898ff",
   "metadata": {},
   "outputs": [
    {
     "name": "stdout",
     "output_type": "stream",
     "text": [
      "0\n"
     ]
    }
   ],
   "source": [
    "print(m.start())"
   ]
  },
  {
   "cell_type": "code",
   "execution_count": 38,
   "id": "641703dd",
   "metadata": {},
   "outputs": [
    {
     "name": "stdout",
     "output_type": "stream",
     "text": [
      "10\n"
     ]
    }
   ],
   "source": [
    "print(m.end())"
   ]
  },
  {
   "cell_type": "code",
   "execution_count": 40,
   "id": "a013fd0b",
   "metadata": {},
   "outputs": [
    {
     "name": "stdout",
     "output_type": "stream",
     "text": [
      "(0, 10)\n"
     ]
    }
   ],
   "source": [
    "print(m.span())"
   ]
  },
  {
   "cell_type": "code",
   "execution_count": 41,
   "id": "6ec1629b",
   "metadata": {},
   "outputs": [
    {
     "name": "stdout",
     "output_type": "stream",
     "text": [
      "1234567890\n"
     ]
    }
   ],
   "source": [
    "print(m.group())"
   ]
  },
  {
   "cell_type": "markdown",
   "id": "aebe30ad",
   "metadata": {},
   "source": [
    "\n"
   ]
  },
  {
   "cell_type": "markdown",
   "id": "b4c44d81",
   "metadata": {},
   "source": [
    "#### 그런데 전화번호를 입력하는 방법은 1234567890이 아니라 123-456-7890이나 123 456 7890과 같은 방법도 있다. 다음은 앞에서 사용한 패턴을 그대로 적용하여 123 456 7890을 검사한 것이다. 다음은 앞에서 사용한 패턴을 그대로 적용하여 123 456 7890을 검사한 것이다. 그러면 패턴을 찾지 못해 Match 오브젝트가 아닌 None을 출력한다."
   ]
  },
  {
   "cell_type": "markdown",
   "id": "c932a982",
   "metadata": {},
   "source": [
    "참고: \\d\\d\\d\\d\\d\\d\\d\\d\\d\\d와 d{10}은 같은 표현이다."
   ]
  },
  {
   "cell_type": "code",
   "execution_count": 45,
   "id": "a652a141",
   "metadata": {},
   "outputs": [
    {
     "name": "stdout",
     "output_type": "stream",
     "text": [
      "None\n"
     ]
    }
   ],
   "source": [
    "tele_num_spaces = '123 456 7890'\n",
    "m = re.match(pattern='\\d{10}', string=tele_num_spaces)\n",
    "print(m)"
   ]
  },
  {
   "cell_type": "code",
   "execution_count": 47,
   "id": "7062dd61",
   "metadata": {},
   "outputs": [
    {
     "name": "stdout",
     "output_type": "stream",
     "text": [
      "no match\n"
     ]
    }
   ],
   "source": [
    "if m:\n",
    "    print('match')\n",
    "else:\n",
    "    print('no match')"
   ]
  },
  {
   "cell_type": "markdown",
   "id": "b2832d38",
   "metadata": {},
   "source": [
    "\n"
   ]
  },
  {
   "cell_type": "markdown",
   "id": "c5ac4233",
   "metadata": {},
   "source": [
    "#### 과정 5의 문제를 해결하려면 정규식을 다시 작성해야 한다. 다음과 같이 빈 칸을 의미하는 정규식 \\s?를 넣어 패턴을 다시 만들었다."
   ]
  },
  {
   "cell_type": "code",
   "execution_count": 51,
   "id": "3f00875d",
   "metadata": {},
   "outputs": [
    {
     "name": "stdout",
     "output_type": "stream",
     "text": [
      "<re.Match object; span=(0, 12), match='123 456 7890'>\n"
     ]
    }
   ],
   "source": [
    "p = '\\d{3}\\s?\\d{3}\\s?\\d{4}'\n",
    "m = re.match(pattern=p, string=tele_num_spaces)\n",
    "print(m)"
   ]
  },
  {
   "cell_type": "markdown",
   "id": "4afbf814",
   "metadata": {},
   "source": [
    "\n"
   ]
  },
  {
   "cell_type": "markdown",
   "id": "f3dc028e",
   "metadata": {},
   "source": [
    "#### 지역 코드는 소괄호로 감싸고 나머지 번호는 반각 기호로 구분한 전화번호의 정규식은 다음과 같이 작성한다."
   ]
  },
  {
   "cell_type": "code",
   "execution_count": 58,
   "id": "74478a77",
   "metadata": {},
   "outputs": [
    {
     "name": "stdout",
     "output_type": "stream",
     "text": [
      "<re.Match object; span=(0, 14), match='(123) 456-7890'>\n"
     ]
    }
   ],
   "source": [
    "tele_num_space_paren_dash = '(123) 456-7890'\n",
    "p = '\\(?\\d{3}\\)?\\s?\\d{3}\\s?-?\\d{4}'\n",
    "m = re.match(pattern=p, string=tele_num_space_paren_dash)\n",
    "print(m)"
   ]
  },
  {
   "cell_type": "markdown",
   "id": "ab893e40",
   "metadata": {},
   "source": [
    "\n"
   ]
  },
  {
   "cell_type": "markdown",
   "id": "05e93f8b",
   "metadata": {},
   "source": [
    "#### 국가 코드까지 있는 전화번호의 정규식은 다음과 같이 작성한다."
   ]
  },
  {
   "cell_type": "code",
   "execution_count": 59,
   "id": "fe831f8b",
   "metadata": {},
   "outputs": [
    {
     "name": "stdout",
     "output_type": "stream",
     "text": [
      "<re.Match object; span=(0, 17), match='+1 (123) 456-7890'>\n"
     ]
    }
   ],
   "source": [
    "cnty_tele_num_space_paren_dash = '+1 (123) 456-7890'\n",
    "p = '\\+?1\\s?\\(?\\d{3}\\)?\\s?\\d{3}\\s?-?\\d{4}'\n",
    "m = re.match(pattern=p, string=cnty_tele_num_space_paren_dash)\n",
    "print(m)"
   ]
  },
  {
   "cell_type": "markdown",
   "id": "47023f2f",
   "metadata": {},
   "source": [
    "\n"
   ]
  },
  {
   "cell_type": "markdown",
   "id": "cccc4d19",
   "metadata": {},
   "source": [
    "<span style=\"font-weight: bold; font-size:20px; color:black\">compile 메서드로 정규식 메서드 사용하기</span><br>패턴을 반복해서 사용하려면 compile 메서드로 패턴을 컴파일한 다음 변수에 저장하여 사용하면 된다. 다음은 앞에서 실습한 내용 중 하나를 compile 메서드로 처리한 것이다. 패턴을 컴파일한 다음 변수에 저장했기 때문에 정규식 메서드를 반복해서 사용할 수 있어 매우 편리하다."
   ]
  },
  {
   "cell_type": "code",
   "execution_count": 61,
   "id": "c3f62b82",
   "metadata": {},
   "outputs": [
    {
     "name": "stdout",
     "output_type": "stream",
     "text": [
      "1234567890\n"
     ]
    }
   ],
   "source": [
    "p = re.compile('\\d{10}')\n",
    "s = '1234567890'\n",
    "m = p.match(s)\n",
    "print(s)"
   ]
  },
  {
   "cell_type": "markdown",
   "id": "cc750f09",
   "metadata": {},
   "source": [
    "\n"
   ]
  },
  {
   "cell_type": "markdown",
   "id": "4e318622",
   "metadata": {},
   "source": [
    "<span style=\"font-weight: bold; font-size:20px; color:#2196F3\">마무리하며</span><br>세상에는 문자열로 이루어진 데이터가 너무나도 많다. 그래서 데이터 과학자들은 문자열을 처리하는 방법을 매우 중요하게 생각한다. 그래서 09장에서는 판다스와 전혀 상관없어 보이는 문자열 처리를 설명한 것이다. 다음 장으로 넘어가기 전에 반드시 09장의 예제를 한 번씩 실습해 보기 바란다."
   ]
  },
  {
   "cell_type": "markdown",
   "id": "48a1cb5a",
   "metadata": {},
   "source": [
    "\n"
   ]
  },
  {
   "cell_type": "markdown",
   "id": "a5dbc959",
   "metadata": {},
   "source": [
    "<span style=\"font-weight: bold; font-size:20px; color:Gray\">출처 : Do it! 데이터 분석을 위한 판다스</span>"
   ]
  },
  {
   "cell_type": "markdown",
   "id": "035f42c6",
   "metadata": {},
   "source": [
    "\n"
   ]
  }
 ],
 "metadata": {
  "kernelspec": {
   "display_name": "Python 3 (ipykernel)",
   "language": "python",
   "name": "python3"
  },
  "language_info": {
   "codemirror_mode": {
    "name": "ipython",
    "version": 3
   },
   "file_extension": ".py",
   "mimetype": "text/x-python",
   "name": "python",
   "nbconvert_exporter": "python",
   "pygments_lexer": "ipython3",
   "version": "3.9.13"
  },
  "toc": {
   "base_numbering": 1,
   "nav_menu": {},
   "number_sections": true,
   "sideBar": true,
   "skip_h1_title": false,
   "title_cell": "Table of Contents",
   "title_sidebar": "Contents",
   "toc_cell": false,
   "toc_position": {
    "height": "660px",
    "left": "35px",
    "top": "111.125px",
    "width": "418.333px"
   },
   "toc_section_display": true,
   "toc_window_display": true
  }
 },
 "nbformat": 4,
 "nbformat_minor": 5
}
