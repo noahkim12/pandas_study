{
 "cells": [
  {
   "cell_type": "markdown",
   "id": "a647823e",
   "metadata": {},
   "source": [
    "<span style=\"font-weight: bold; font-size:30px; color:#2196F3\">09-4 정규식으로 문자열 처리에 날개 달기</span>"
   ]
  },
  {
   "cell_type": "markdown",
   "id": "cba1ddd8",
   "metadata": {},
   "source": [
    "문자열 포매팅은 문자열을 편리하게 출력할 수 있게 해주는 기능이다. 예를 들어 I can swim, I can fly, I can run과 같은 문자열은 I can이라는 문자열에 swim, run, fly와 같은 단어만 바꿔 넣어 출력하는 것이 더 편리하다. 즉, 문자열 포매팅이란 출력할 문자열의 형식을 지정하거나 변수를 조합하여 출력하는 방법을 말한다."
   ]
  },
  {
   "cell_type": "markdown",
   "id": "24561281",
   "metadata": {},
   "source": [
    "\n"
   ]
  },
  {
   "cell_type": "markdown",
   "id": "10379724",
   "metadata": {},
   "source": [
    "### 문자열 포매팅하기\n",
    "#### 다음과 같은 단어를 삽입할 위치릴 {}로 지정하고 format 메서드에 원하는 단어를 전달하면 {}의 위치에 전달한 단어를 삽입해 출력한다. 이떄 {}를 플레이스 홀더라고 부른다."
   ]
  },
  {
   "cell_type": "code",
   "execution_count": 1,
   "id": "6f669ecd",
   "metadata": {},
   "outputs": [],
   "source": [
    "var = 'flesh wound'\n",
    "s = \"It's just a {}\""
   ]
  },
  {
   "cell_type": "code",
   "execution_count": 2,
   "id": "2d118ff3",
   "metadata": {},
   "outputs": [
    {
     "name": "stdout",
     "output_type": "stream",
     "text": [
      "It's just a flesh wound\n"
     ]
    }
   ],
   "source": [
    "print(s.format(var))"
   ]
  },
  {
   "cell_type": "code",
   "execution_count": 4,
   "id": "c368fe81",
   "metadata": {},
   "outputs": [
    {
     "name": "stdout",
     "output_type": "stream",
     "text": [
      "It's just a scratch\n"
     ]
    }
   ],
   "source": [
    "print(s.format('scratch'))"
   ]
  },
  {
   "cell_type": "markdown",
   "id": "046c6406",
   "metadata": {},
   "source": [
    "\n"
   ]
  },
  {
   "cell_type": "markdown",
   "id": "bf2673ac",
   "metadata": {},
   "source": [
    "#### 플레이스 홀더는 여러 번 사용해도 된다. 하지만 여러 단어를 전달할 때는 어떻게 해야 할까? format 메서드에 여러 단어를 전달하려면 인덱스 개념을 응용하면 된다. 다음은 1개의 단어만 사용한다. 따라서 인덱스를 0으로 지정한 플레이스 홀더를 사용했다."
   ]
  },
  {
   "cell_type": "code",
   "execution_count": 9,
   "id": "34a6afbd",
   "metadata": {},
   "outputs": [
    {
     "name": "stdout",
     "output_type": "stream",
     "text": [
      "Black Knight: 'Tis but a scratch.\n",
      "King Arthur: A scratch? Your arm's off!\n",
      "\n"
     ]
    }
   ],
   "source": [
    "s = \"\"\"Black Knight: 'Tis but a {0}.\n",
    "King Arthur: A {0}? Your arm's off!\n",
    "\"\"\"\n",
    "\n",
    "print(s.format('scratch'))"
   ]
  },
  {
   "cell_type": "markdown",
   "id": "302921dc",
   "metadata": {},
   "source": [
    "\n"
   ]
  },
  {
   "cell_type": "markdown",
   "id": "2f1b39f5",
   "metadata": {},
   "source": [
    "<span style=\"font-weight: bold; font-size:20px; color:#2196F3\">숫자 데이터 포매팅하기</span><br>\n",
    "이번에는 숫자 데이터 포매팅에 대해 알아보자. 숫자 데이터 포매팅을 사용하면 실수의 소수점을 어디까지 출력할지 등을 설정할 수 있다."
   ]
  },
  {
   "cell_type": "markdown",
   "id": "a20815ed",
   "metadata": {},
   "source": [
    "\n"
   ]
  },
  {
   "cell_type": "markdown",
   "id": "40a26c48",
   "metadata": {},
   "source": [
    "### 숫자 데이터 포매팅하기\n",
    "#### 숫자 데이터도 플레이스 홀더를 사용할 수 있다."
   ]
  },
  {
   "cell_type": "code",
   "execution_count": 12,
   "id": "ac78743b",
   "metadata": {},
   "outputs": [
    {
     "name": "stdout",
     "output_type": "stream",
     "text": [
      "Some digital of pi: 3.14159265359\n"
     ]
    }
   ],
   "source": [
    "print('Some digital of pi: {}'.format(3.14159265359))"
   ]
  },
  {
   "cell_type": "markdown",
   "id": "f34b8726",
   "metadata": {},
   "source": [
    "\n"
   ]
  },
  {
   "cell_type": "markdown",
   "id": "4d9da2d1",
   "metadata": {},
   "source": [
    "#### 플레이스 홀더에 :,를 넣으면 쉼표를 넣어 숫자를 표현할 수도 있다."
   ]
  },
  {
   "cell_type": "code",
   "execution_count": 13,
   "id": "d296a9c7",
   "metadata": {},
   "outputs": [
    {
     "name": "stdout",
     "output_type": "stream",
     "text": [
      "In 2005, Lu Chao of China recited 67,890 digitals of pi\n"
     ]
    }
   ],
   "source": [
    "print(\"In 2005, Lu Chao of China recited {:,} digitals of pi\".format(67890))"
   ]
  },
  {
   "cell_type": "markdown",
   "id": "1259ccca",
   "metadata": {},
   "source": [
    "\n"
   ]
  },
  {
   "cell_type": "markdown",
   "id": "8af1e6e4",
   "metadata": {},
   "source": [
    "#### 소수는 좀 더 다양한 방법으로 포매팅 할 수 있다. 다음은 플레이스 홀더에 0:.4, 0:.4%를 넣어 7/67890의 결괏값을 포매팅한 것이다. {0:.4}과 {0:.4%}에서 0은 format 메서드에서 전달받을 값(7/67890)의 인덱스를 의미하고 .4는 소수점 이하의 숫자를 4개까지 출력하겠다는 것을 의미한다. 이때 %를 사용하면 7/67890의 결괏값을 백분율로 환산하여 출력한다."
   ]
  },
  {
   "cell_type": "code",
   "execution_count": 14,
   "id": "04e7c554",
   "metadata": {},
   "outputs": [
    {
     "name": "stdout",
     "output_type": "stream",
     "text": [
      "I remember 0.0001031 or 0.0103% of what Lu Chao recited\n"
     ]
    }
   ],
   "source": [
    "print(\"I remember {0:.4} or {0:.4%} of what Lu Chao recited\".format(7/67890))"
   ]
  },
  {
   "cell_type": "markdown",
   "id": "fe44b615",
   "metadata": {},
   "source": [
    "\n"
   ]
  },
  {
   "cell_type": "markdown",
   "id": "85d991d7",
   "metadata": {},
   "source": [
    "#### 만약 사용자의 아이디가 5자리의 숫자로 표현되어야 한다면 42와 같은 2자리의 값은 00042로 출력해야한다. 다음은 format의 0번째 값(42)을 5자리의 수로 표현하되 빈 칸을 0으로 채워 출력한 것이다."
   ]
  },
  {
   "cell_type": "code",
   "execution_count": 18,
   "id": "d38fef5f",
   "metadata": {},
   "outputs": [
    {
     "name": "stdout",
     "output_type": "stream",
     "text": [
      "My id number is 00042\n"
     ]
    }
   ],
   "source": [
    "print(\"My id number is {0:05d}\".format(42))"
   ]
  },
  {
   "cell_type": "markdown",
   "id": "9a9552c6",
   "metadata": {},
   "source": [
    "\n"
   ]
  },
  {
   "cell_type": "markdown",
   "id": "0ec567d9",
   "metadata": {},
   "source": [
    "<span style=\"font-weight: bold; font-size:20px; color:#2196F3\">% 연산자로 포매팅하기</span><br>\n",
    "지금까지는 플레이스 홀더를 이용하여 여러 가지 포매팅을 실습했다. 이번에는 % 연산자로 포매팅을 실습해 보겠다. 만약 C 언어를 공부한 적이 있다면 printf 메서드의 출력 형식을 떠올려보자. 그러면 이번 실습 내용을 좀 더 쉽게 이해할 수 있을 것이다."
   ]
  },
  {
   "cell_type": "markdown",
   "id": "bd3d1541",
   "metadata": {},
   "source": [
    "### % 연산자로 포매팅하기\n",
    "#### 만약 삽입할 값이 10진수라면 값을 삽입할 위치에 %d라고 입력해야 한다. 그런 다음 % 연산자를 이용하여 삽입할 값(7)을 지정하여 출력한다."
   ]
  },
  {
   "cell_type": "code",
   "execution_count": 19,
   "id": "18de6ae5",
   "metadata": {},
   "outputs": [
    {
     "name": "stdout",
     "output_type": "stream",
     "text": [
      "I only know 7 digitals of pi\n"
     ]
    }
   ],
   "source": [
    "s = 'I only know %d digitals of pi' % 7\n",
    "print(s)"
   ]
  },
  {
   "cell_type": "markdown",
   "id": "74ebd305",
   "metadata": {},
   "source": [
    "\n"
   ]
  },
  {
   "cell_type": "markdown",
   "id": "ba754301",
   "metadata": {},
   "source": [
    "#### 만약 삽입할 값이 문자열이라면 값을 삽입할 위치에 %s라고 입력해야 한다. 이때 %와 s사이에 소괄호를 사용하여 변수를 지정한다."
   ]
  },
  {
   "cell_type": "code",
   "execution_count": 20,
   "id": "68d898ff",
   "metadata": {},
   "outputs": [
    {
     "name": "stdout",
     "output_type": "stream",
     "text": [
      "Some digits of e: 2.72\n"
     ]
    }
   ],
   "source": [
    "print('Some digits of %(cont)s: %(value).2f' % {'cont': 'e', 'value': 2.718})"
   ]
  },
  {
   "cell_type": "markdown",
   "id": "aebe30ad",
   "metadata": {},
   "source": [
    "\n"
   ]
  },
  {
   "cell_type": "markdown",
   "id": "b4c44d81",
   "metadata": {},
   "source": [
    "#### f-strings 포매팅 사용하기\n",
    "f-strings 포매팅은 파이썬 3.6버전에서 새롭게 도입한 포매팅이다. f-strings 포매팅의 사용 방법은 format 메서드의 사용 방법과 동일하다. 하지만 문자열 앞에 f를 붙인다는 점이 다르다. f-strings 포매팅은 읽기 쉬울 뿐만 아니라 문자열을 빠르게 처리한다는 장점이 있다. 앞에서 실습한 내용을 f-strings 포매팅으로 바꾸면 다음과 같이 된다."
   ]
  },
  {
   "cell_type": "code",
   "execution_count": 21,
   "id": "e278ab63",
   "metadata": {},
   "outputs": [
    {
     "name": "stdout",
     "output_type": "stream",
     "text": [
      "It's just a flesh wound!\n"
     ]
    }
   ],
   "source": [
    "var = 'flesh wound'\n",
    "s = f\"It's just a {var}!\"\n",
    "print(s)"
   ]
  },
  {
   "cell_type": "code",
   "execution_count": 22,
   "id": "a652a141",
   "metadata": {},
   "outputs": [
    {
     "name": "stdout",
     "output_type": "stream",
     "text": [
      "Hayden Planetarium Coordinates: 40.7815ºN, 73.9733ºW\n"
     ]
    }
   ],
   "source": [
    "lat = '40.7815ºN'\n",
    "lon = '73.9733ºW'\n",
    "s = f'Hayden Planetarium Coordinates: {lat}, {lon}'\n",
    "print(s)"
   ]
  },
  {
   "cell_type": "markdown",
   "id": "48a1cb5a",
   "metadata": {},
   "source": [
    "\n"
   ]
  },
  {
   "cell_type": "markdown",
   "id": "a5dbc959",
   "metadata": {},
   "source": [
    "<span style=\"font-weight: bold; font-size:20px; color:Gray\">출처 : Do it! 데이터 분석을 위한 판다스</span>"
   ]
  },
  {
   "cell_type": "markdown",
   "id": "035f42c6",
   "metadata": {},
   "source": [
    "\n"
   ]
  }
 ],
 "metadata": {
  "kernelspec": {
   "display_name": "Python 3 (ipykernel)",
   "language": "python",
   "name": "python3"
  },
  "language_info": {
   "codemirror_mode": {
    "name": "ipython",
    "version": 3
   },
   "file_extension": ".py",
   "mimetype": "text/x-python",
   "name": "python",
   "nbconvert_exporter": "python",
   "pygments_lexer": "ipython3",
   "version": "3.9.13"
  },
  "toc": {
   "base_numbering": 1,
   "nav_menu": {},
   "number_sections": true,
   "sideBar": true,
   "skip_h1_title": false,
   "title_cell": "Table of Contents",
   "title_sidebar": "Contents",
   "toc_cell": false,
   "toc_position": {
    "height": "660px",
    "left": "35px",
    "top": "111.125px",
    "width": "418.333px"
   },
   "toc_section_display": true,
   "toc_window_display": true
  }
 },
 "nbformat": 4,
 "nbformat_minor": 5
}
