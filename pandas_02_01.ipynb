{
 "cells": [
  {
   "cell_type": "markdown",
   "id": "70883c32",
   "metadata": {},
   "source": [
    "<span style=\"font-weight: bold; font-size:40px; color:#2196F3\"> 02-1</span>\n",
    "# 데이터 집합 불러오기"
   ]
  },
  {
   "cell_type": "markdown",
   "id": "29ac504c",
   "metadata": {},
   "source": [
    "<span style=\"font-weight: bold; font-size:20px; color:#2196F3\">데이터 분석의 시작은 데이터 불러오기부터</span>\n",
    "\n",
    "데이터 분석을 위해 가장 먼저 해야 할 일은 무엇일까? 바로 데이터를 불러오는 것이다. 이때 불러오는 데이터를 '데이터 집합'이라고 한다. 그러면 데이터 집합을 불러오는 방법과 데이터를 간단히 살펴보는 방법에 대해 알아보겠다. 우리가 처음 불러올 데이터 집합은 갭마인더(Gapminder)이다. '02_practice'를 주피터 노트북으로 열어 실습을 시작해 보자."
   ]
  },
  {
   "cell_type": "markdown",
   "id": "b1559e34",
   "metadata": {},
   "source": [
    "### 갭 마인더 데이터 집합 불러오기"
   ]
  },
  {
   "cell_type": "markdown",
   "id": "6e17bd39",
   "metadata": {},
   "source": [
    "1. 판다스의 여러 기능을 사용하려면 판다스 라이버러리를 불러와야 한다. 다음과 같이 입력하여 판다스 라이브러리 불러오기."
   ]
  },
  {
   "cell_type": "code",
   "execution_count": 50,
   "id": "4926f170",
   "metadata": {},
   "outputs": [],
   "source": [
    "import pandas"
   ]
  },
  {
   "cell_type": "markdown",
   "id": "725056f5",
   "metadata": {},
   "source": [
    "2. 갭마인더 데이터 집합을 불러오려면 read_csv 메서드를 사용해야 한다. read_csv 메서드는 기본적으로 쉼표(,)로 열이 구분되어 있는 데이터를 불러온다. 하지만 갭마인더는 열이 탭(tab)으로 구분되어 있기 때문에 read_csv 메서드를 호출할 때 열이 탭으로 구분되어 있다고 미리 알려주어야 한다. sep 속성값으로 \\t를 지정하자. (파이썬에서 \\t는 탭을 의미한다.)"
   ]
  },
  {
   "cell_type": "code",
   "execution_count": 55,
   "id": "fd6341fa",
   "metadata": {},
   "outputs": [],
   "source": [
    "df = pandas.read_csv('doit_pandas_data/data/gapminder.tsv', sep='\\t')"
   ]
  },
  {
   "cell_type": "markdown",
   "id": "160596f5",
   "metadata": {},
   "source": [
    "3. 판다스에 있는 메서드를 호출하려면 점(.) 연산자를 사용해야 한다. 그런데 매번 pandas라고 입력하려면 번거롭다. 그래서 이를 해결하기 위해 관습적으로 pandas를 pd로 줄여 사용한다. 다음과 같이 입력하면 pandas를 pd로 줄여 사용할 수 있다. 앞으로는 이 방법을 사용해보겠다."
   ]
  },
  {
   "cell_type": "code",
   "execution_count": 56,
   "id": "5817cb45",
   "metadata": {},
   "outputs": [],
   "source": [
    "import pandas as pd\n",
    "df = pd.read_csv('doit_pandas_data/data/gapminder.tsv', sep='\\t')"
   ]
  },
  {
   "cell_type": "markdown",
   "id": "1542cd9c",
   "metadata": {},
   "source": [
    "<span style=\"font-weight: bold; font-size:20px; color:#2196F3\">시리즈와 데이터프레임</span>\n",
    "\n",
    "이번에는 판다스에서 사용되는 자료형을 알아볼 차례이다. 판다스는 데이터를 효율적으로 다루기 위해 시리즈(Series)와 데이터 프레임(DataFrame)이라는 자료형을 사용한다. 데이터프레임은 엑셀에서 볼 수 있는 시트(Sheet)와 동일한 개념이며 시리즈는 시트의 열 1개를 의미한다. 파이썬으로 비유하여 설명하면 데이터프레임은 시리즈들이 각 요소가 되는 딕셔너리(Dictionary)라고 생각하면 된다."
   ]
  },
  {
   "cell_type": "markdown",
   "id": "190354b1",
   "metadata": {},
   "source": [
    "### 갭 마인더 데이터 집합 불러오기\n",
    "1. read_csv 메서드는 데이터 집합을 읽어 들여와 데이터프레임이라는 자료형으로 반환한다. 데이터프레임에는 데이터 분석에 유용한 여러 메서드가 미리 정의되어 있다. 데이터프레임의"
   ]
  },
  {
   "cell_type": "code",
   "execution_count": 54,
   "id": "8fefc43c",
   "metadata": {},
   "outputs": [],
   "source": []
  },
  {
   "cell_type": "code",
   "execution_count": null,
   "id": "8b13e636",
   "metadata": {},
   "outputs": [],
   "source": []
  }
 ],
 "metadata": {
  "kernelspec": {
   "display_name": "Python 3 (ipykernel)",
   "language": "python",
   "name": "python3"
  },
  "language_info": {
   "codemirror_mode": {
    "name": "ipython",
    "version": 3
   },
   "file_extension": ".py",
   "mimetype": "text/x-python",
   "name": "python",
   "nbconvert_exporter": "python",
   "pygments_lexer": "ipython3",
   "version": "3.9.13"
  }
 },
 "nbformat": 4,
 "nbformat_minor": 5
}
