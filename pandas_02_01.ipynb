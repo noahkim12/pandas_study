{
 "cells": [
  {
   "cell_type": "markdown",
   "id": "70883c32",
   "metadata": {},
   "source": [
    "<span style=\"font-weight: bold; font-size:40px; color:#2196F3\"> 02-1</span>\n",
    "# 데이터 집합 불러오기"
   ]
  },
  {
   "cell_type": "markdown",
   "id": "29ac504c",
   "metadata": {},
   "source": [
    "<span style=\"font-weight: bold; font-size:20px; color:#2196F3\">데이터 분석의 시작은 데이터 불러오기부터</span>\n",
    "\n",
    "데이터 분석을 위해 가장 먼저 해야 할 일은 무엇일까? 바로 데이터를 불러오는 것이다. 이때 불러오는 데이터를 '데이터 집합'이라고 한다. 그러면 데이터 집합을 불러오는 방법과 데이터를 간단히 살펴보는 방법에 대해 알아보겠다. 우리가 처음 불러올 데이터 집합은 갭마인더(Gapminder)이다. '02_practice'를 주피터 노트북으로 열어 실습을 시작해 보자."
   ]
  },
  {
   "cell_type": "markdown",
   "id": "b1559e34",
   "metadata": {},
   "source": [
    "### 갭 마인더 데이터 집합 불러오기"
   ]
  },
  {
   "cell_type": "markdown",
   "id": "6e17bd39",
   "metadata": {},
   "source": [
    "1. 판다스의 여러 기능을 사용하려면 판다스 라이버러리를 불러와야 한다. 다음과 같이 입력하여 판다스 라이브러리 불러오기."
   ]
  },
  {
   "cell_type": "code",
   "execution_count": 72,
   "id": "4926f170",
   "metadata": {},
   "outputs": [],
   "source": [
    "import pandas"
   ]
  },
  {
   "cell_type": "markdown",
   "id": "725056f5",
   "metadata": {},
   "source": [
    "2. 갭마인더 데이터 집합을 불러오려면 read_csv 메서드를 사용해야 한다. read_csv 메서드는 기본적으로 쉼표(,)로 열이 구분되어 있는 데이터를 불러온다. 하지만 갭마인더는 열이 탭(tab)으로 구분되어 있기 때문에 read_csv 메서드를 호출할 때 열이 탭으로 구분되어 있다고 미리 알려주어야 한다. sep 속성값으로 \\t를 지정하자. (파이썬에서 \\t는 탭을 의미한다.)"
   ]
  },
  {
   "cell_type": "code",
   "execution_count": 73,
   "id": "fd6341fa",
   "metadata": {},
   "outputs": [],
   "source": [
    "df = pandas.read_csv('doit_pandas_data/data/gapminder.tsv', sep='\\t')"
   ]
  },
  {
   "cell_type": "markdown",
   "id": "d5933917",
   "metadata": {},
   "source": [
    "3. 판다스에 있는 메서드를 호출하려면 점(.) 연산자를 사용해야 한다. 그런데 매번 pandas라고 입력하려면 번거롭다. 그래서 이를 해결하기 위해 관습적으로 pandas를 pd로 줄여 사용한다. 다음과 같이 입력하면 pandas를 pd로 줄여 사용할 수 있다. 앞으로는 이 방법을 사용해보겠다."
   ]
  },
  {
   "cell_type": "code",
   "execution_count": 74,
   "id": "5817cb45",
   "metadata": {},
   "outputs": [],
   "source": [
    "import pandas as pd\n",
    "df = pd.read_csv('doit_pandas_data/data/gapminder.tsv', sep='\\t')"
   ]
  },
  {
   "cell_type": "markdown",
   "id": "42489b1f",
   "metadata": {},
   "source": [
    "\n"
   ]
  },
  {
   "cell_type": "markdown",
   "id": "641cac04",
   "metadata": {},
   "source": [
    "<span style=\"font-weight: bold; font-size:20px; color:#2196F3\">시리즈와 데이터프레임</span>\n",
    "\n",
    "이번에는 판다스에서 사용되는 자료형을 알아볼 차례이다. 판다스는 데이터를 효율적으로 다루기 위해 시리즈(Series)와 데이터 프레임(DataFrame)이라는 자료형을 사용한다. 데이터프레임은 엑셀에서 볼 수 있는 시트(Sheet)와 동일한 개념이며 시리즈는 시트의 열 1개를 의미한다. 파이썬으로 비유하여 설명하면 데이터프레임은 시리즈들이 각 요소가 되는 딕셔너리(Dictionary)라고 생각하면 된다."
   ]
  },
  {
   "cell_type": "markdown",
   "id": "273287f4",
   "metadata": {},
   "source": [
    "### 갭 마인더 데이터 집합 불러오기\n",
    "1. read_csv 메서드는 데이터 집합을 읽어 들여와 데이터프레임이라는 자료형으로 반환한다. 데이터프레임에는 데이터 분석에 유용한 여러 메서드가 미리 정의되어 있다. 데이터프레임의 데이터를 확인하는 용도로 자주 사용하는 head 메서드에 대해 먼저 알아 보겠습니다. head 메서드는 데이터프레임에서 가장 앞에 있는 5개의 행을 출력하므로 내가 불러온 데이터가 어떤 값을 가지고 있는지 살펴보기에 안성맞춤이다."
   ]
  },
  {
   "cell_type": "code",
   "execution_count": 58,
   "id": "fb23b921",
   "metadata": {},
   "outputs": [
    {
     "name": "stdout",
     "output_type": "stream",
     "text": [
      "       country continent  year  lifeExp       pop   gdpPercap\n",
      "0  Afghanistan      Asia  1952   28.801   8425333  779.445314\n",
      "1  Afghanistan      Asia  1957   30.332   9240934  820.853030\n",
      "2  Afghanistan      Asia  1962   31.997  10267083  853.100710\n",
      "3  Afghanistan      Asia  1967   34.020  11537966  836.197138\n",
      "4  Afghanistan      Asia  1972   36.088  13079460  739.981106\n"
     ]
    }
   ],
   "source": [
    "print(df.head())"
   ]
  },
  {
   "cell_type": "markdown",
   "id": "ffc3886a",
   "metadata": {},
   "source": [
    "\n"
   ]
  },
  {
   "cell_type": "markdown",
   "id": "03ef1962",
   "metadata": {},
   "source": [
    "2. 이번에는 df에 저장된 값이 정말 데이터프레임이 자료형인지 확인해 보겠다. 실행 결과를 보면 판다스의 데이터프레임이라는 것을 알 수 있다. type 메서드는 자료형을 출력해준다. 앞으로 자주 사용할 메서드이므로 꼭 기억해두길 바란다. type 메서드는 파이썬 내장 메서드이다."
   ]
  },
  {
   "cell_type": "code",
   "execution_count": 59,
   "id": "c4d66062",
   "metadata": {},
   "outputs": [
    {
     "name": "stdout",
     "output_type": "stream",
     "text": [
      "<class 'pandas.core.frame.DataFrame'>\n"
     ]
    }
   ],
   "source": [
    "print(type(df))"
   ]
  },
  {
   "cell_type": "markdown",
   "id": "da23bf76",
   "metadata": {},
   "source": [
    "\n"
   ]
  },
  {
   "cell_type": "markdown",
   "id": "b4722022",
   "metadata": {},
   "source": [
    "3. 데이터프레임은 자신이 가지고 있는 데이터의 행과 열의 크기에 대한 정보를 shape라는 속성에 저장하고 있다. 다음을 입력하여 실행하면 갭마인더의 행과 열의 크기를 확인할 수 있다. 1번째 값은 행의 크기이고 2번째 값은 열의 크기이다."
   ]
  },
  {
   "cell_type": "code",
   "execution_count": 60,
   "id": "4176a967",
   "metadata": {},
   "outputs": [
    {
     "name": "stdout",
     "output_type": "stream",
     "text": [
      "(1704, 6)\n"
     ]
    }
   ],
   "source": [
    "print(df.shape)"
   ]
  },
  {
   "cell_type": "markdown",
   "id": "e445acae",
   "metadata": {},
   "source": [
    "\n"
   ]
  },
  {
   "cell_type": "markdown",
   "id": "9b6e888d",
   "metadata": {},
   "source": [
    "4. 이번에는 갭마인더에 어떤 정보가 들어 있는지 알아보겠다. 먼저 열을 살펴보겠다. 과정 3에서 shape 속성을 사용했던 것처럼 columns 속성을 사용하면 데이터 프레임의 열 이름을 확인할 수 있다. 갭마인더를 구성하는 열 이름은 각각 country, continent, year, lifeExp, pop, gdpPercap이다."
   ]
  },
  {
   "cell_type": "code",
   "execution_count": 69,
   "id": "9a702206",
   "metadata": {},
   "outputs": [
    {
     "name": "stdout",
     "output_type": "stream",
     "text": [
      "Index(['country', 'continent', 'year', 'lifeExp', 'pop', 'gdpPercap'], dtype='object')\n"
     ]
    }
   ],
   "source": [
    "print(df.columns)"
   ]
  },
  {
   "cell_type": "markdown",
   "id": "ffc49df5",
   "metadata": {},
   "source": [
    "\n"
   ]
  },
  {
   "cell_type": "markdown",
   "id": "c7d02e7d",
   "metadata": {},
   "source": [
    "5. 데이터의 프레임을 구성하는 값의 자료형은 데이터프레임의 dtypes 속성이나 info 메서드로 쉽게 확인할 수 있다."
   ]
  },
  {
   "cell_type": "code",
   "execution_count": 70,
   "id": "b6aa7242",
   "metadata": {},
   "outputs": [
    {
     "name": "stdout",
     "output_type": "stream",
     "text": [
      "country       object\n",
      "continent     object\n",
      "year           int64\n",
      "lifeExp      float64\n",
      "pop            int64\n",
      "gdpPercap    float64\n",
      "dtype: object\n"
     ]
    }
   ],
   "source": [
    "print(df.dtypes)"
   ]
  },
  {
   "cell_type": "code",
   "execution_count": 71,
   "id": "587da240",
   "metadata": {},
   "outputs": [
    {
     "name": "stdout",
     "output_type": "stream",
     "text": [
      "<bound method DataFrame.info of           country continent  year  lifeExp       pop   gdpPercap\n",
      "0     Afghanistan      Asia  1952   28.801   8425333  779.445314\n",
      "1     Afghanistan      Asia  1957   30.332   9240934  820.853030\n",
      "2     Afghanistan      Asia  1962   31.997  10267083  853.100710\n",
      "3     Afghanistan      Asia  1967   34.020  11537966  836.197138\n",
      "4     Afghanistan      Asia  1972   36.088  13079460  739.981106\n",
      "...           ...       ...   ...      ...       ...         ...\n",
      "1699     Zimbabwe    Africa  1987   62.351   9216418  706.157306\n",
      "1700     Zimbabwe    Africa  1992   60.377  10704340  693.420786\n",
      "1701     Zimbabwe    Africa  1997   46.809  11404948  792.449960\n",
      "1702     Zimbabwe    Africa  2002   39.989  11926563  672.038623\n",
      "1703     Zimbabwe    Africa  2007   43.487  12311143  469.709298\n",
      "\n",
      "[1704 rows x 6 columns]>\n"
     ]
    }
   ],
   "source": [
    "print(df.info)"
   ]
  },
  {
   "cell_type": "markdown",
   "id": "420cf39c",
   "metadata": {},
   "source": [
    "\n"
   ]
  },
  {
   "cell_type": "markdown",
   "id": "7c46fab3",
   "metadata": {},
   "source": [
    "<span style=\"font-weight: bold; font-size:20px; color:#2196F3\">판다스와 파이썬 자료형 비교</span>\n",
    "\n",
    "다음 표에 앞으로 판다스를 공부하며 자주 다루게 될 자료형을 정리했다. 그런데 판다스와 파이썬은 같은 자료형도 다르게 인식한다. 예를 들어 판다스는 문자열 자료형을 object라는 이름으로 인식하고 파이썬은 string이라는 이름으로 인식한다. 같은 자료형이라도 판다스, 파이썬이 서로 다른 이름으로 인식한다는 점을 주의 깊게 살펴보고 다음으로 넘어가자."
   ]
  },
  {
   "cell_type": "markdown",
   "id": "9fd0e698",
   "metadata": {},
   "source": [
    "\n",
    "| 판다스 자료형 | 파이썬 자료형 | 설명 |\n",
    "|:---: |:---: |:---: |\n",
    "| object | string | 문자열 |\n",
    "| int64 | int | 정수 |\n",
    "| float64 | float | 소수점을 가진 숫자 |\n",
    "| datetime64 | datetime | 파이썬 표준 라이브러리인 datetime이 반환하는 자료형 |"
   ]
  }
 ],
 "metadata": {
  "kernelspec": {
   "display_name": "Python 3 (ipykernel)",
   "language": "python",
   "name": "python3"
  },
  "language_info": {
   "codemirror_mode": {
    "name": "ipython",
    "version": 3
   },
   "file_extension": ".py",
   "mimetype": "text/x-python",
   "name": "python",
   "nbconvert_exporter": "python",
   "pygments_lexer": "ipython3",
   "version": "3.9.13"
  }
 },
 "nbformat": 4,
 "nbformat_minor": 5
}
