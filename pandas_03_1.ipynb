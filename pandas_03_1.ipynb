{
 "cells": [
  {
   "cell_type": "markdown",
   "id": "a647823e",
   "metadata": {},
   "source": [
    "<span style=\"font-weight: bold; font-size:40px; color:#2196F3\">03-1</span>\n",
    "# 나만의 데이터 만들기"
   ]
  },
  {
   "cell_type": "markdown",
   "id": "03fa4efa",
   "metadata": {},
   "source": [
    "02장에서는 파일에서 데이터 집합을 불러온 다음 실습을 진행했다. 이번에는 실습에 사용할 시리즈와 데이터프레임을 직접 만들어서 진행하겠다."
   ]
  },
  {
   "cell_type": "markdown",
   "id": "57532a62",
   "metadata": {},
   "source": [
    "### 시리즈와 데이터프레임 직접 만들기\n",
    "\n"
   ]
  },
  {
   "cell_type": "markdown",
   "id": "dba9adf0",
   "metadata": {},
   "source": [
    "#### 1. 시리즈 만들기\n",
    "판다스의 Series 메서드에 리스트를 전달하여 시리즈를 생성한다."
   ]
  },
  {
   "cell_type": "code",
   "execution_count": 4,
   "id": "6885f49e",
   "metadata": {},
   "outputs": [
    {
     "name": "stdout",
     "output_type": "stream",
     "text": [
      "0    banana\n",
      "1        42\n",
      "dtype: object\n"
     ]
    }
   ],
   "source": [
    "import pandas as pd\n",
    "s = pd.Series(['banana', 42])\n",
    "print(s)"
   ]
  },
  {
   "cell_type": "markdown",
   "id": "eefe3730",
   "metadata": {},
   "source": [
    "\n"
   ]
  },
  {
   "cell_type": "markdown",
   "id": "bf3c3e38",
   "metadata": {},
   "source": [
    "2. 02장에서는 인덱스는 보통 0부터 시작한다고 했었다. 하지만 시리즈를 생성할 때 문자열을 인덱스로 지정할 수도 있다. 문자열을 인덱스로 지정하려면 Series 메서드의 index 인자를 통해 인덱스를 사용하고자 하는 문자열을 리스트에 담아 전달하면 된다."
   ]
  },
  {
   "cell_type": "code",
   "execution_count": 5,
   "id": "35ffe9d6",
   "metadata": {},
   "outputs": [
    {
     "name": "stdout",
     "output_type": "stream",
     "text": [
      "0         Wes McKinney\n",
      "1    Creator of Pandas\n",
      "dtype: object\n"
     ]
    }
   ],
   "source": [
    "s = pd.Series(['Wes McKinney', 'Creator of Pandas'])\n",
    "print(s)"
   ]
  },
  {
   "cell_type": "code",
   "execution_count": 6,
   "id": "95410686",
   "metadata": {},
   "outputs": [
    {
     "name": "stdout",
     "output_type": "stream",
     "text": [
      "Person         Wes McKinney\n",
      "Who       Creator of Pandas\n",
      "dtype: object\n"
     ]
    }
   ],
   "source": [
    "s = pd.Series(['Wes McKinney', 'Creator of Pandas'], index=['Person', 'Who'])\n",
    "print(s)"
   ]
  },
  {
   "cell_type": "markdown",
   "id": "f1f8cf11",
   "metadata": {},
   "source": [
    "\n"
   ]
  },
  {
   "cell_type": "markdown",
   "id": "065d5172",
   "metadata": {},
   "source": [
    "#### 3. 데이터프레임 만들기\n",
    "데이터프레임을 만들기 위해서는 딕셔너리를 DataFrame 클래스에 전달해야 한다."
   ]
  },
  {
   "cell_type": "code",
   "execution_count": 7,
   "id": "4b3243f5",
   "metadata": {},
   "outputs": [
    {
     "name": "stdout",
     "output_type": "stream",
     "text": [
      "                Name    Occupation        Born  Age\n",
      "0  Roseline Franklin       Chemist  1920-07-25   37\n",
      "1     William Gosset  Statistician  1876-06-13   61\n"
     ]
    }
   ],
   "source": [
    "scientists = pd.DataFrame({\n",
    "    'Name': ['Roseline Franklin', 'William Gosset'],\n",
    "    'Occupation': ['Chemist', 'Statistician'],\n",
    "    'Born': ['1920-07-25', '1876-06-13'],\n",
    "    'Age': [37, 61]}\n",
    ")\n",
    "print(scientists)"
   ]
  },
  {
   "cell_type": "markdown",
   "id": "df923714",
   "metadata": {},
   "source": [
    "\n"
   ]
  },
  {
   "cell_type": "markdown",
   "id": "15bbc06d",
   "metadata": {},
   "source": [
    "4. 시리즈와 마찬가지로 데이터프레임도 인덱스를 따로 지정하지 않으면 인덱스를 0부터 자동으로 생성한다. 인덱스를 따로 지정하려면 index 인자에 리스트를 전달하면 된다. 또 columns 인자를 사용하면 데이터프레임의 열 순서를 지정할 수 있다. 예를 들어 데이터프레임을 만들 때 Occupation, Born, Died, Age의 순서로 딕셔너리를 전달했어도 columns 인자에 Occupation, Born, Age, Died의 순서로 열 이름을 전달하면 생성된 데이터프레임의 열 순서는 columns에 전달한 값을 따라간다."
   ]
  },
  {
   "cell_type": "code",
   "execution_count": 8,
   "id": "26718ba8",
   "metadata": {},
   "outputs": [
    {
     "name": "stdout",
     "output_type": "stream",
     "text": [
      "                    Occupation        Born  Age        Died\n",
      "Rosaline Frankin       Chemist  1920-07-25   37  1958-04-16\n",
      "William Gosset    Statistician  1876-06-13   61  1937-10-16\n"
     ]
    }
   ],
   "source": [
    "scientists = pd.DataFrame(\n",
    "    data={'Occupation': ['Chemist', 'Statistician'],\n",
    "    'Born': ['1920-07-25', '1876-06-13'],\n",
    "    'Died': ['1958-04-16', '1937-10-16'],\n",
    "    'Age': [37, 61]},\n",
    "    index=['Rosaline Frankin', 'William Gosset'],\n",
    "    columns=['Occupation', 'Born', 'Age', 'Died']\n",
    ")\n",
    "print(scientists)"
   ]
  },
  {
   "cell_type": "markdown",
   "id": "91100199",
   "metadata": {},
   "source": [
    "\n"
   ]
  },
  {
   "cell_type": "markdown",
   "id": "1c1a1adb",
   "metadata": {},
   "source": [
    "5. 과정 1에서 데이터프레임을 만들 때 딕셔너리를 전달한다고 했다. 그런데 딕셔너리는 데이터의 순서를 보장하지 않는다. 즉, name의 Rosaline Frankiln, William Goaset의 순서가 바뀔수도 있다는 뜻이다. 만약 순서가 보장된 딕셔너리를 전달하려면 OrderedDict 클래스를 사용해야 한다. 다음과 같이 입력하면 딕셔너리의 데이터 순서를 그대로 유지하면서 데이터 프레임을 만들 수 있다."
   ]
  },
  {
   "cell_type": "code",
   "execution_count": 12,
   "id": "04e7a024",
   "metadata": {},
   "outputs": [
    {
     "name": "stdout",
     "output_type": "stream",
     "text": [
      "                Name    Occupation        Born        Died  Age\n",
      "0  Rosaline Franklin       Chemist  1920-07-25  1958-04-16   37\n",
      "1     william Gosset  Statistician  1876-06-13  1937-10-16   61\n"
     ]
    }
   ],
   "source": [
    "from collections import OrderedDict\n",
    "\n",
    "scientists = pd.DataFrame(OrderedDict([\n",
    "    ('Name', ['Rosaline Franklin', 'william Gosset']),\n",
    "    ('Occupation', ['Chemist', 'Statistician']),\n",
    "    ('Born', ['1920-07-25', '1876-06-13']),\n",
    "    ('Died', ['1958-04-16', '1937-10-16']),\n",
    "    ('Age', [37, 61])\n",
    "])\n",
    ")\n",
    "print(scientists)"
   ]
  },
  {
   "cell_type": "markdown",
   "id": "fc6db69f",
   "metadata": {},
   "source": [
    "\n"
   ]
  },
  {
   "cell_type": "markdown",
   "id": "a5dbc959",
   "metadata": {},
   "source": [
    "<span style=\"font-weight: bold; font-size:20px; color:Gray\">출처 : Do it! 데이터 분석을 위한 판다스</span>"
   ]
  },
  {
   "cell_type": "markdown",
   "id": "035f42c6",
   "metadata": {},
   "source": [
    "\n"
   ]
  }
 ],
 "metadata": {
  "kernelspec": {
   "display_name": "Python 3 (ipykernel)",
   "language": "python",
   "name": "python3"
  },
  "language_info": {
   "codemirror_mode": {
    "name": "ipython",
    "version": 3
   },
   "file_extension": ".py",
   "mimetype": "text/x-python",
   "name": "python",
   "nbconvert_exporter": "python",
   "pygments_lexer": "ipython3",
   "version": "3.9.13"
  }
 },
 "nbformat": 4,
 "nbformat_minor": 5
}
