{
 "cells": [
  {
   "cell_type": "markdown",
   "id": "a647823e",
   "metadata": {},
   "source": [
    "<span style=\"font-weight: bold; font-size:30px; color:#2196F3\">12-2 사례별 시계열 데이터 계산하기</span>"
   ]
  },
  {
   "cell_type": "markdown",
   "id": "c3a20f3e",
   "metadata": {},
   "source": [
    "\n"
   ]
  },
  {
   "cell_type": "markdown",
   "id": "10379724",
   "metadata": {},
   "source": [
    "### 에볼라 최초 발병일 계산하기\n",
    "#### ebola 데이터프레임의"
   ]
  },
  {
   "cell_type": "code",
   "execution_count": 1,
   "id": "dd3e2fb3",
   "metadata": {},
   "outputs": [],
   "source": [
    "from datetime import datetime"
   ]
  },
  {
   "cell_type": "markdown",
   "id": "2d636353",
   "metadata": {},
   "source": [
    "\n"
   ]
  },
  {
   "cell_type": "markdown",
   "id": "f3b96d49",
   "metadata": {},
   "source": [
    "#### now, today 메서드를 사용하면 다음과 같이 현재 시간을 출력할 수 있다."
   ]
  },
  {
   "cell_type": "code",
   "execution_count": 2,
   "id": "0e106a05",
   "metadata": {},
   "outputs": [
    {
     "name": "stdout",
     "output_type": "stream",
     "text": [
      "2023-05-20 17:12:53.661322\n"
     ]
    }
   ],
   "source": [
    "now1 = datetime.now()\n",
    "print(now1)"
   ]
  },
  {
   "cell_type": "code",
   "execution_count": 3,
   "id": "b87f8066",
   "metadata": {},
   "outputs": [
    {
     "name": "stdout",
     "output_type": "stream",
     "text": [
      "2023-05-20 17:13:16.895011\n"
     ]
    }
   ],
   "source": [
    "now2 = datetime.today()\n",
    "print(now2)"
   ]
  },
  {
   "cell_type": "markdown",
   "id": "52b99855",
   "metadata": {},
   "source": [
    "\n"
   ]
  },
  {
   "cell_type": "markdown",
   "id": "fdaf4c77",
   "metadata": {},
   "source": [
    "#### 다음은 datetime 오브젝트를 생성할 때 시간을 직접 입력하여 인자로 전달할 것이다. 각 변수를 출력하여 확인해 보면 입력한 시간을 바탕으로 datetime 오브젝트가 생성된 것을 알 수 있다."
   ]
  },
  {
   "cell_type": "code",
   "execution_count": 4,
   "id": "ac78743b",
   "metadata": {},
   "outputs": [
    {
     "name": "stdout",
     "output_type": "stream",
     "text": [
      "2023-05-20 17:15:12.998499\n",
      "1970-01-01 00:00:00\n",
      "1970-12-12 13:24:34\n"
     ]
    }
   ],
   "source": [
    "t1 = datetime.now()\n",
    "t2 = datetime(1970, 1, 1)\n",
    "t3 = datetime(1970, 12, 12, 13, 24, 34)\n",
    "\n",
    "print(t1)\n",
    "print(t2)\n",
    "print(t3)"
   ]
  },
  {
   "cell_type": "markdown",
   "id": "f34b8726",
   "metadata": {},
   "source": [
    "\n"
   ]
  },
  {
   "cell_type": "markdown",
   "id": "7a50e7b8",
   "metadata": {},
   "source": [
    "#### datetime 오브젝트를 사용하는 이유 중 하나는 시간 계산을 할 수 있다는 점이다. 다음은 두 datetime 오브젝트의 차이를 구한 것이다."
   ]
  },
  {
   "cell_type": "code",
   "execution_count": 5,
   "id": "9e1294c9",
   "metadata": {},
   "outputs": [
    {
     "name": "stdout",
     "output_type": "stream",
     "text": [
      "19497 days, 17:15:12.998499\n",
      "<class 'datetime.timedelta'>\n"
     ]
    }
   ],
   "source": [
    "diff1 = t1 - t2\n",
    "\n",
    "print(diff1)\n",
    "print(type(diff1))"
   ]
  },
  {
   "cell_type": "code",
   "execution_count": 6,
   "id": "f16ef56e",
   "metadata": {},
   "outputs": [
    {
     "name": "stdout",
     "output_type": "stream",
     "text": [
      "-19498 days, 6:44:47.001501\n",
      "<class 'datetime.timedelta'>\n"
     ]
    }
   ],
   "source": [
    "diff2 = t2 - t1\n",
    "\n",
    "print(diff2)\n",
    "print(type(diff2))"
   ]
  },
  {
   "cell_type": "markdown",
   "id": "661a2584",
   "metadata": {},
   "source": [
    "\n"
   ]
  },
  {
   "cell_type": "markdown",
   "id": "ba02ddc5",
   "metadata": {},
   "source": [
    "<span style=\"font-weight: bold; font-size:20px; color:#2196F3\">datetime 오브젝트로 변환하기 - to_datetime 메서드</span><br>경우에 따라서는 시계열 데이터를 문자열로 저장해야 할 때도 있다. 하지만 문자열은 시간 계산을 할 수 없기 때문에 datetime 오브젝트로 변환해 주어야 한다. 이번에는 to_datetime 메서드를 사용하여 문자열을 datetime 오브젝트로 변환하는 방법에 대해 알아보겠다."
   ]
  },
  {
   "cell_type": "markdown",
   "id": "77e5c51b",
   "metadata": {},
   "source": [
    "\n"
   ]
  },
  {
   "cell_type": "markdown",
   "id": "d152a26d",
   "metadata": {},
   "source": [
    "### 문자열을 datetime 오브젝트로 변환하기\n",
    "#### 먼저 ebola 데이터 집합을 불러온다."
   ]
  },
  {
   "cell_type": "code",
   "execution_count": 8,
   "id": "39caffd7",
   "metadata": {},
   "outputs": [],
   "source": [
    "import pandas as pd\n",
    "import os\n",
    "\n",
    "ebola = pd.read_csv('doit_pandas_data/data/country_timeseries.csv')"
   ]
  },
  {
   "cell_type": "markdown",
   "id": "aceceb6b",
   "metadata": {},
   "source": [
    "\n"
   ]
  },
  {
   "cell_type": "markdown",
   "id": "3cb55b4c",
   "metadata": {},
   "source": [
    "#### ebola 데이터프레임을 보면 문자열로 저장된 Date 열이 있는 것을 알 수 있다."
   ]
  },
  {
   "cell_type": "code",
   "execution_count": 13,
   "id": "f6354382",
   "metadata": {},
   "outputs": [
    {
     "name": "stdout",
     "output_type": "stream",
     "text": [
      "<class 'pandas.core.frame.DataFrame'>\n",
      "RangeIndex: 122 entries, 0 to 121\n",
      "Data columns (total 18 columns):\n",
      " #   Column               Non-Null Count  Dtype  \n",
      "---  ------               --------------  -----  \n",
      " 0   Date                 122 non-null    object \n",
      " 1   Day                  122 non-null    int64  \n",
      " 2   Cases_Guinea         93 non-null     float64\n",
      " 3   Cases_Liberia        83 non-null     float64\n",
      " 4   Cases_SierraLeone    87 non-null     float64\n",
      " 5   Cases_Nigeria        38 non-null     float64\n",
      " 6   Cases_Senegal        25 non-null     float64\n",
      " 7   Cases_UnitedStates   18 non-null     float64\n",
      " 8   Cases_Spain          16 non-null     float64\n",
      " 9   Cases_Mali           12 non-null     float64\n",
      " 10  Deaths_Guinea        92 non-null     float64\n",
      " 11  Deaths_Liberia       81 non-null     float64\n",
      " 12  Deaths_SierraLeone   87 non-null     float64\n",
      " 13  Deaths_Nigeria       38 non-null     float64\n",
      " 14  Deaths_Senegal       22 non-null     float64\n",
      " 15  Deaths_UnitedStates  18 non-null     float64\n",
      " 16  Deaths_Spain         16 non-null     float64\n",
      " 17  Deaths_Mali          12 non-null     float64\n",
      "dtypes: float64(16), int64(1), object(1)\n",
      "memory usage: 17.3+ KB\n",
      "None\n"
     ]
    }
   ],
   "source": [
    "print(ebola.info())"
   ]
  },
  {
   "cell_type": "markdown",
   "id": "31f49ced",
   "metadata": {},
   "source": [
    "\n"
   ]
  },
  {
   "cell_type": "markdown",
   "id": "7c9bce4d",
   "metadata": {},
   "source": [
    "#### to_datetime 메서드를 사용하면 Date 열의 자료형을 datetime 오브젝트로 변환할 수 있다. 다음과 같이 to_datetime 메서드를 사용하여 Date 열의 자료형을 datetime 오브젝트로 변환한 다음 ebola 데이터프레임에 새로운 열로 추가한다."
   ]
  },
  {
   "cell_type": "code",
   "execution_count": 14,
   "id": "ea41a7ab",
   "metadata": {},
   "outputs": [
    {
     "name": "stdout",
     "output_type": "stream",
     "text": [
      "<class 'pandas.core.frame.DataFrame'>\n",
      "RangeIndex: 122 entries, 0 to 121\n",
      "Data columns (total 19 columns):\n",
      " #   Column               Non-Null Count  Dtype         \n",
      "---  ------               --------------  -----         \n",
      " 0   Date                 122 non-null    object        \n",
      " 1   Day                  122 non-null    int64         \n",
      " 2   Cases_Guinea         93 non-null     float64       \n",
      " 3   Cases_Liberia        83 non-null     float64       \n",
      " 4   Cases_SierraLeone    87 non-null     float64       \n",
      " 5   Cases_Nigeria        38 non-null     float64       \n",
      " 6   Cases_Senegal        25 non-null     float64       \n",
      " 7   Cases_UnitedStates   18 non-null     float64       \n",
      " 8   Cases_Spain          16 non-null     float64       \n",
      " 9   Cases_Mali           12 non-null     float64       \n",
      " 10  Deaths_Guinea        92 non-null     float64       \n",
      " 11  Deaths_Liberia       81 non-null     float64       \n",
      " 12  Deaths_SierraLeone   87 non-null     float64       \n",
      " 13  Deaths_Nigeria       38 non-null     float64       \n",
      " 14  Deaths_Senegal       22 non-null     float64       \n",
      " 15  Deaths_UnitedStates  18 non-null     float64       \n",
      " 16  Deaths_Spain         16 non-null     float64       \n",
      " 17  Deaths_Mali          12 non-null     float64       \n",
      " 18  date_dt              122 non-null    datetime64[ns]\n",
      "dtypes: datetime64[ns](1), float64(16), int64(1), object(1)\n",
      "memory usage: 18.2+ KB\n",
      "None\n"
     ]
    }
   ],
   "source": [
    "ebola['date_dt'] = pd.to_datetime(ebola['Date'])\n",
    "print(ebola.info())"
   ]
  },
  {
   "cell_type": "markdown",
   "id": "9c4d788d",
   "metadata": {},
   "source": [
    "\n"
   ]
  },
  {
   "cell_type": "markdown",
   "id": "e9173384",
   "metadata": {},
   "source": [
    "#### to_datetime 메서드를 좀 더 자세히 알아보자. 시간 형식 지정자(%d, %m, %y)와 기호(/, -)를 적절히 조합하여 format 인자에 전달하면 그 형식에 맞게 정리된 datetime 오브젝트를 얻을 수 있다. 다음 실습을 참고하여 format 인자의 사용법을 꼭 익혀둬라."
   ]
  },
  {
   "cell_type": "code",
   "execution_count": 17,
   "id": "f2747bc0",
   "metadata": {},
   "outputs": [],
   "source": [
    "test_df1 = pd.DataFrame({'order_day':['01/01/15', '02/01/15', '03/01/15']})\n",
    "\n",
    "test_df1['date_dt1'] = pd.to_datetime(test_df1['order_day'], format='%d/%m/%y')\n",
    "test_df1['date_dt2'] = pd.to_datetime(test_df1['order_day'], format='%m/%d/%y')\n",
    "test_df1['date_dt3'] = pd.to_datetime(test_df1['order_day'], format='%y/%m/%d')"
   ]
  },
  {
   "cell_type": "code",
   "execution_count": 18,
   "id": "993f25a1",
   "metadata": {},
   "outputs": [
    {
     "name": "stdout",
     "output_type": "stream",
     "text": [
      "  order_day   date_dt1   date_dt2   date_dt3\n",
      "0  01/01/15 2015-01-01 2015-01-01 2001-01-15\n",
      "1  02/01/15 2015-01-02 2015-02-01 2002-01-15\n",
      "2  03/01/15 2015-01-03 2015-03-01 2003-01-15\n"
     ]
    }
   ],
   "source": [
    "print(test_df1)"
   ]
  },
  {
   "cell_type": "code",
   "execution_count": 25,
   "id": "73e6e318",
   "metadata": {},
   "outputs": [
    {
     "name": "stdout",
     "output_type": "stream",
     "text": [
      "  order_day    date_df\n",
      "0  01-01-15 2015-01-01\n",
      "1  02-01-15 2015-01-02\n",
      "2  03-01-15 2015-01-03\n"
     ]
    }
   ],
   "source": [
    "test_df2 = pd.DataFrame({'order_day':['01-01-15', '02-01-15', '03-01-15']})\n",
    "test_df2['date_df'] = pd.to_datetime(test_df2['order_day'], format='%d-%m-%y')\n",
    "\n",
    "print(test_df2)"
   ]
  },
  {
   "cell_type": "markdown",
   "id": "32d258db",
   "metadata": {},
   "source": [
    "\n"
   ]
  },
  {
   "cell_type": "markdown",
   "id": "9f8b8645",
   "metadata": {},
   "source": [
    "<span style=\"font-weight: bold; font-size:20px; color:#2196F3\">시간 형식 지정자</span><br>다음은 시간 형식 지정자를 정리한 표이다. 이 장의 실습에서 종종 사용하므로 한 번 읽고 넘어가기 바란다."
   ]
  },
  {
   "cell_type": "markdown",
   "id": "5e9b8f63",
   "metadata": {},
   "source": [
    "| <p style=\"text-align:center\">시간 형식 지정자 | <p style=\"text-align:center\">의미 | <p style=\"text-align:center\">결과 |\n",
    "| :--- | :--- | :--- |\n",
    "| %a | 요일 출력 | Sun, Mon, ...Sat |\n",
    "| %A | 요일 출력(긴 이름) | Sunday, Monday, .., Saturday |\n",
    "| %w | 요일 출력(숫자, 0부터 일요일) | 0, 1, .., 6 |\n",
    "| %d | 날짜 출력(2자리로 표시) | 01, 02, .., 31 |\n",
    "| %b | 월 출력 | Jan, Feb, .., Dec |\n",
    "| %B | 월 출력(긴 이름) | January, February, .., December |\n",
    "| %m | 월 출력(숫자) | 01, 02, .., 12 |\n",
    "| %y | 년 출력(2자리로 표시) | 00, 01, .., 99 |\n",
    "| %Y | 년 출력(4자리로 표시 | 0001, 0002, .., 2013, 2014, 00, 9999 |\n",
    "| %H | 시간 출력(24시간) | 00, 01, .., 23 |\n",
    "| %h | 시간 출력(12시간 |01, 02, .., 12 |\n",
    "| %p | AM 또는 PM 출력 | AM, PM |\n",
    "| %M | 분 출력(2자리로 표시) | 00, 01, .., 59 |\n",
    "| %S | 초 출력(2자리로 표시) | 00, 01, .., 59 |\n",
    "| %f | 마이크로초 출력 | 000000, 000001, .., 999999 |\n",
    "| %z | UTC 차이 출력(+HHMM이나 -HHMM형태) | (None), +0000, -0400, +1030 |\n",
    "| %Z | 기준 지역 이름 출력 | (None), UTC, EST, CST |\n",
    "| %j | 올해의 지난 일 수 출력(1일, 2일, ..) | 001, 002, .., 366 |\n",
    "| %U | 올해의 지난 주 수 출력(1주, 2주, ..) | 00, 01, .., 53 |\n",
    "| %c | 날짜와 시간 출력 | Tue Aug 16 21:30:00 1988 |\n",
    "| %x | 날짜 출력 | 08/16/88 (None);08/16/1988 |\n",
    "| %X | 시간 출력 | 21:30:00 |\n",
    "| %G | 년 출력(ISO 8601 형식) | 0001, 0002, .., 2013, 2014, .., 9999 |\n",
    "| %u | 요일 출력(ISO 8601 형식) | 1, 2, .., 7 |\n",
    "| %V | 올해의 지난 주 수 출력(ISO 8601 형식) | 01, 02, .., 53 |"
   ]
  },
  {
   "cell_type": "markdown",
   "id": "4330a54d",
   "metadata": {},
   "source": [
    "\n"
   ]
  },
  {
   "cell_type": "markdown",
   "id": "78fb0572",
   "metadata": {},
   "source": [
    "### 시계열 데이터를 구분해서 추출하기\n",
    "now 메서드로 얻은 현재 시간의 시계열 데이터는 아주 정밀한 단위까지 시간을 표현한다. 하지만 원하는 시계열 데이터의 시간 요소가 연도, 월, 일뿐이라면 now 메서드로 얻은 시계열 데이터를 잘라내야 한다. 다음은 strftime 메서드와 시간 형식 지정자를 이용하여 시계열 데이터를 잘라낸 것이다."
   ]
  },
  {
   "cell_type": "code",
   "execution_count": 26,
   "id": "a6dbada3",
   "metadata": {},
   "outputs": [
    {
     "name": "stdout",
     "output_type": "stream",
     "text": [
      "2023-05-20 18:32:45.842422\n"
     ]
    }
   ],
   "source": [
    "now = datetime.now()\n",
    "print(now)"
   ]
  },
  {
   "cell_type": "code",
   "execution_count": 30,
   "id": "b59f8547",
   "metadata": {},
   "outputs": [
    {
     "name": "stdout",
     "output_type": "stream",
     "text": [
      "2023-05-20\n"
     ]
    }
   ],
   "source": [
    "nowDate = now.strftime('%Y-%m-%d')\n",
    "print(nowDate)"
   ]
  },
  {
   "cell_type": "code",
   "execution_count": 36,
   "id": "7f695277",
   "metadata": {},
   "outputs": [
    {
     "name": "stdout",
     "output_type": "stream",
     "text": [
      "18:32:45\n"
     ]
    }
   ],
   "source": [
    "nowTime = now.strftime('%H:%M:%S')\n",
    "print(nowTime)"
   ]
  },
  {
   "cell_type": "code",
   "execution_count": 37,
   "id": "7e38779e",
   "metadata": {},
   "outputs": [
    {
     "name": "stdout",
     "output_type": "stream",
     "text": [
      "2023-05-20 18:32:45\n"
     ]
    }
   ],
   "source": [
    "nowDatetime = now.strftime('%Y-%m-%d %H:%M:%S')\n",
    "print(nowDatetime)"
   ]
  },
  {
   "cell_type": "markdown",
   "id": "a79f970a",
   "metadata": {},
   "source": [
    "\n"
   ]
  },
  {
   "cell_type": "markdown",
   "id": "57dedd90",
   "metadata": {},
   "source": [
    "<span style=\"font-weight: bold; font-size:20px; color:#2196F3\">datetime 오브젝트로 변환하기 - read_csv 메서드</span><br>앞에서는 to_datetime 메서드를 사용하여 문자열로 저장되어 있는 Date 열을 datetime 오브젝트로 변환했다. 하지만 datetime 오브젝트러 변환하려는 열을 지정하여 데이터 집합을 불러오는 것이 더 간단하다. 다음 실습을 통해 알아보자."
   ]
  },
  {
   "cell_type": "markdown",
   "id": "bef64526",
   "metadata": {},
   "source": [
    "### datetime 오브젝트로 변환하려는 열을 지정하여 데이터 집합 불러오기\n",
    "#### 다음은 read_csv 메서드의 parse_dates 인자에 datetime 오브젝트로 변환하고자 하는 열의 이름을 전달하여 데이터 집합을 불러온 것이다. 결과를 보면 Date 열이 문자열이 아니라 datetime 오브젝트라는 것을 확인할 수 있다."
   ]
  },
  {
   "cell_type": "code",
   "execution_count": 38,
   "id": "94b32183",
   "metadata": {},
   "outputs": [
    {
     "name": "stdout",
     "output_type": "stream",
     "text": [
      "<class 'pandas.core.frame.DataFrame'>\n",
      "RangeIndex: 122 entries, 0 to 121\n",
      "Data columns (total 18 columns):\n",
      " #   Column               Non-Null Count  Dtype         \n",
      "---  ------               --------------  -----         \n",
      " 0   Date                 122 non-null    datetime64[ns]\n",
      " 1   Day                  122 non-null    int64         \n",
      " 2   Cases_Guinea         93 non-null     float64       \n",
      " 3   Cases_Liberia        83 non-null     float64       \n",
      " 4   Cases_SierraLeone    87 non-null     float64       \n",
      " 5   Cases_Nigeria        38 non-null     float64       \n",
      " 6   Cases_Senegal        25 non-null     float64       \n",
      " 7   Cases_UnitedStates   18 non-null     float64       \n",
      " 8   Cases_Spain          16 non-null     float64       \n",
      " 9   Cases_Mali           12 non-null     float64       \n",
      " 10  Deaths_Guinea        92 non-null     float64       \n",
      " 11  Deaths_Liberia       81 non-null     float64       \n",
      " 12  Deaths_SierraLeone   87 non-null     float64       \n",
      " 13  Deaths_Nigeria       38 non-null     float64       \n",
      " 14  Deaths_Senegal       22 non-null     float64       \n",
      " 15  Deaths_UnitedStates  18 non-null     float64       \n",
      " 16  Deaths_Spain         16 non-null     float64       \n",
      " 17  Deaths_Mali          12 non-null     float64       \n",
      "dtypes: datetime64[ns](1), float64(16), int64(1)\n",
      "memory usage: 17.3 KB\n",
      "None\n"
     ]
    }
   ],
   "source": [
    "ebola = pd.read_csv('doit_pandas_data/data/country_timeseries.csv', parse_dates=['Date'])\n",
    "print(ebola.info())"
   ]
  },
  {
   "cell_type": "markdown",
   "id": "e227903d",
   "metadata": {},
   "source": [
    "\n"
   ]
  },
  {
   "cell_type": "markdown",
   "id": "8e2c7a5c",
   "metadata": {},
   "source": [
    "<span style=\"font-weight: bold; font-size:20px; color:#2196F3\">datetime 오브젝트에서 날짜 정보 추출하기</span><br>datetime 오브젝트에는 년, 월, 일과 같은 날짜 정보를 따로 저장하고 있는 속성이 이미 준비되어 있다. 다음 실습을 통해 datetime 오브젝트에서 날짜 정보를 하나씩 추출해 보겠다."
   ]
  },
  {
   "cell_type": "markdown",
   "id": "6b9524ef",
   "metadata": {},
   "source": [
    "\n"
   ]
  },
  {
   "cell_type": "markdown",
   "id": "eb72e590",
   "metadata": {},
   "source": [
    "### datetime 오브젝트에서 날짜 정보 추출하기\n",
    "#### 다음은 문자열로 저장된 날짜를 시리즈에 담아 datetime 오브젝트로 변환한 것이다."
   ]
  },
  {
   "cell_type": "code",
   "execution_count": 40,
   "id": "33ad42d3",
   "metadata": {},
   "outputs": [
    {
     "name": "stdout",
     "output_type": "stream",
     "text": [
      "0   2018-05-16\n",
      "1   2018-05-17\n",
      "2   2018-05-18\n",
      "dtype: datetime64[ns]\n"
     ]
    }
   ],
   "source": [
    "date_series = pd.Series(['2018-05-16', '2018-05-17', '2018-05-18'])\n",
    "d1 = pd.to_datetime(date_series)\n",
    "print(d1)"
   ]
  },
  {
   "cell_type": "markdown",
   "id": "bb7b758b",
   "metadata": {},
   "source": [
    "\n"
   ]
  },
  {
   "cell_type": "markdown",
   "id": "dae2d282",
   "metadata": {},
   "source": [
    "#### datetime 오브젝트(d1)의 year, month, day 속성을 이용하면 년, 월, 일 정보를 바로 추출할 수 있다."
   ]
  },
  {
   "cell_type": "code",
   "execution_count": 42,
   "id": "d7ffcd3e",
   "metadata": {},
   "outputs": [
    {
     "name": "stdout",
     "output_type": "stream",
     "text": [
      "2018\n"
     ]
    }
   ],
   "source": [
    "print(d1[0].year)"
   ]
  },
  {
   "cell_type": "code",
   "execution_count": 43,
   "id": "a955e319",
   "metadata": {},
   "outputs": [
    {
     "name": "stdout",
     "output_type": "stream",
     "text": [
      "5\n"
     ]
    }
   ],
   "source": [
    "print(d1[0].month)"
   ]
  },
  {
   "cell_type": "code",
   "execution_count": 44,
   "id": "dea74d01",
   "metadata": {},
   "outputs": [
    {
     "name": "stdout",
     "output_type": "stream",
     "text": [
      "16\n"
     ]
    }
   ],
   "source": [
    "print(d1[0].day)"
   ]
  },
  {
   "cell_type": "markdown",
   "id": "9998d8af",
   "metadata": {},
   "source": [
    "\n"
   ]
  },
  {
   "cell_type": "markdown",
   "id": "7cdd0885",
   "metadata": {},
   "source": [
    "<span style=\"font-weight: bold; font-size:20px; color:#2196F3\">dt 접근자 사용하기</span><br>문자열을 처리하려면 str 접근자를 사용한 다음 문자열 속성이나 메서드를 사용해야 했다. datetime 오브젝트도 마찬가지로 dt 접근자를 사용하면 datetime 속성이나 메서드를 사용하여 시계열 데이터를 처리할 수 있다."
   ]
  },
  {
   "cell_type": "markdown",
   "id": "bfcfbbec",
   "metadata": {},
   "source": [
    "\n"
   ]
  },
  {
   "cell_type": "markdown",
   "id": "d43b80b4",
   "metadata": {},
   "source": [
    "### dt 접근자로 시계열 데이터 정리하기\n",
    "#### 먼저 ebola 데이터 집합을 불러온 다음 Date 열을 datetime 오브젝트로 변환하여 새로운 열(date_dt)로 추가한다."
   ]
  },
  {
   "cell_type": "code",
   "execution_count": 45,
   "id": "69ada7a2",
   "metadata": {},
   "outputs": [],
   "source": [
    "ebola = pd.read_csv('doit_pandas_data/data/country_timeseries.csv')\n",
    "ebola['date_dt'] = pd.to_datetime(ebola['Date'])"
   ]
  },
  {
   "cell_type": "markdown",
   "id": "823dd75a",
   "metadata": {},
   "source": [
    "\n"
   ]
  },
  {
   "cell_type": "markdown",
   "id": "f5e12999",
   "metadata": {},
   "source": [
    "#### 다음은 dt 접근자를 사용하지 않고 인덱스가 3인 데이터의 년, 월, 일 데이터를 추출한 것이다."
   ]
  },
  {
   "cell_type": "code",
   "execution_count": 49,
   "id": "41e181a6",
   "metadata": {},
   "outputs": [
    {
     "name": "stdout",
     "output_type": "stream",
     "text": [
      "         Date    date_dt\n",
      "0    1/5/2015 2015-01-05\n",
      "1    1/4/2015 2015-01-04\n",
      "2    1/3/2015 2015-01-03\n",
      "3    1/2/2015 2015-01-02\n",
      "4  12/31/2014 2014-12-31\n"
     ]
    }
   ],
   "source": [
    "print(ebola[['Date', 'date_dt']].head())"
   ]
  },
  {
   "cell_type": "code",
   "execution_count": 53,
   "id": "7672f82e",
   "metadata": {},
   "outputs": [
    {
     "name": "stdout",
     "output_type": "stream",
     "text": [
      "2015\n"
     ]
    }
   ],
   "source": [
    "print(ebola['date_dt'][3].year)"
   ]
  },
  {
   "cell_type": "code",
   "execution_count": 54,
   "id": "eebac597",
   "metadata": {},
   "outputs": [
    {
     "name": "stdout",
     "output_type": "stream",
     "text": [
      "1\n"
     ]
    }
   ],
   "source": [
    "print(ebola['date_dt'][3].month)"
   ]
  },
  {
   "cell_type": "code",
   "execution_count": 55,
   "id": "f01457b6",
   "metadata": {},
   "outputs": [
    {
     "name": "stdout",
     "output_type": "stream",
     "text": [
      "2\n"
     ]
    }
   ],
   "source": [
    "print(ebola['date_dt'][3].day)"
   ]
  },
  {
   "cell_type": "markdown",
   "id": "19f54a7d",
   "metadata": {},
   "source": [
    "\n"
   ]
  },
  {
   "cell_type": "markdown",
   "id": "17714043",
   "metadata": {},
   "source": [
    "#### 위 과정 같은 방법은 date_dt 열의 특정 데이터를 인덱스로 접근해야 하기 때문에 불편하다. 다음은 dt 접근자로 date_dt 열에 한 번에 접근한 다음 year 속성을 이용하여 연도값을 추출한 것이다. 추출한 연도값은 ebola 데이터프레임의 새로운 열(year)로 추가했다."
   ]
  },
  {
   "cell_type": "code",
   "execution_count": 56,
   "id": "522be1be",
   "metadata": {},
   "outputs": [
    {
     "name": "stdout",
     "output_type": "stream",
     "text": [
      "         Date    date_dt  year\n",
      "0    1/5/2015 2015-01-05  2015\n",
      "1    1/4/2015 2015-01-04  2015\n",
      "2    1/3/2015 2015-01-03  2015\n",
      "3    1/2/2015 2015-01-02  2015\n",
      "4  12/31/2014 2014-12-31  2014\n"
     ]
    }
   ],
   "source": [
    "ebola['year'] = ebola['date_dt'].dt.year\n",
    "\n",
    "print(ebola[['Date', 'date_dt', 'year']].head())"
   ]
  },
  {
   "cell_type": "markdown",
   "id": "9a081268",
   "metadata": {},
   "source": [
    "\n"
   ]
  },
  {
   "cell_type": "markdown",
   "id": "cdf1d807",
   "metadata": {},
   "source": [
    "#### 다음은 과정 3을 응용하여 월, 일 데이터를 한 번에 추출해서 새로운 열(month, day)로 추가한 것이다."
   ]
  },
  {
   "cell_type": "code",
   "execution_count": 58,
   "id": "2c43baa0",
   "metadata": {},
   "outputs": [
    {
     "name": "stdout",
     "output_type": "stream",
     "text": [
      "         Date    date_dt  year  month  day\n",
      "0    1/5/2015 2015-01-05  2015      1    5\n",
      "1    1/4/2015 2015-01-04  2015      1    4\n",
      "2    1/3/2015 2015-01-03  2015      1    3\n",
      "3    1/2/2015 2015-01-02  2015      1    2\n",
      "4  12/31/2014 2014-12-31  2014     12   31\n"
     ]
    }
   ],
   "source": [
    "ebola['month'], ebola['day'] = (ebola['date_dt'].dt.month, ebola['date_dt'].dt.day)\n",
    "\n",
    "print(ebola[['Date', 'date_dt', 'year', 'month', 'day']].head())"
   ]
  },
  {
   "cell_type": "markdown",
   "id": "a235a133",
   "metadata": {},
   "source": [
    "\n"
   ]
  },
  {
   "cell_type": "markdown",
   "id": "5653a5cf",
   "metadata": {},
   "source": [
    "#### 다음은 ebola 데이터프레임에 새로 추가한 date_dt, year, month, day 열의 자료형을 출력한 것이다. date_dt 열은 datetime 오브젝트이고 나머지는 정수형이라는 것을 알 수 있다."
   ]
  },
  {
   "cell_type": "code",
   "execution_count": 62,
   "id": "9188a4b3",
   "metadata": {},
   "outputs": [
    {
     "name": "stdout",
     "output_type": "stream",
     "text": [
      "<class 'pandas.core.frame.DataFrame'>\n",
      "RangeIndex: 122 entries, 0 to 121\n",
      "Data columns (total 22 columns):\n",
      " #   Column               Non-Null Count  Dtype         \n",
      "---  ------               --------------  -----         \n",
      " 0   Date                 122 non-null    object        \n",
      " 1   Day                  122 non-null    int64         \n",
      " 2   Cases_Guinea         93 non-null     float64       \n",
      " 3   Cases_Liberia        83 non-null     float64       \n",
      " 4   Cases_SierraLeone    87 non-null     float64       \n",
      " 5   Cases_Nigeria        38 non-null     float64       \n",
      " 6   Cases_Senegal        25 non-null     float64       \n",
      " 7   Cases_UnitedStates   18 non-null     float64       \n",
      " 8   Cases_Spain          16 non-null     float64       \n",
      " 9   Cases_Mali           12 non-null     float64       \n",
      " 10  Deaths_Guinea        92 non-null     float64       \n",
      " 11  Deaths_Liberia       81 non-null     float64       \n",
      " 12  Deaths_SierraLeone   87 non-null     float64       \n",
      " 13  Deaths_Nigeria       38 non-null     float64       \n",
      " 14  Deaths_Senegal       22 non-null     float64       \n",
      " 15  Deaths_UnitedStates  18 non-null     float64       \n",
      " 16  Deaths_Spain         16 non-null     float64       \n",
      " 17  Deaths_Mali          12 non-null     float64       \n",
      " 18  date_dt              122 non-null    datetime64[ns]\n",
      " 19  year                 122 non-null    int64         \n",
      " 20  month                122 non-null    int64         \n",
      " 21  day                  122 non-null    int64         \n",
      "dtypes: datetime64[ns](1), float64(16), int64(4), object(1)\n",
      "memory usage: 21.1+ KB\n",
      "None\n"
     ]
    }
   ],
   "source": [
    "print(ebola.info())"
   ]
  },
  {
   "cell_type": "markdown",
   "id": "48a1cb5a",
   "metadata": {},
   "source": [
    "\n"
   ]
  },
  {
   "cell_type": "markdown",
   "id": "a5dbc959",
   "metadata": {},
   "source": [
    "<span style=\"font-weight: bold; font-size:20px; color:Gray\">출처 : Do it! 데이터 분석을 위한 판다스</span>"
   ]
  },
  {
   "cell_type": "markdown",
   "id": "035f42c6",
   "metadata": {},
   "source": [
    "\n"
   ]
  }
 ],
 "metadata": {
  "kernelspec": {
   "display_name": "Python 3 (ipykernel)",
   "language": "python",
   "name": "python3"
  },
  "language_info": {
   "codemirror_mode": {
    "name": "ipython",
    "version": 3
   },
   "file_extension": ".py",
   "mimetype": "text/x-python",
   "name": "python",
   "nbconvert_exporter": "python",
   "pygments_lexer": "ipython3",
   "version": "3.9.13"
  },
  "toc": {
   "base_numbering": 1,
   "nav_menu": {},
   "number_sections": true,
   "sideBar": true,
   "skip_h1_title": false,
   "title_cell": "Table of Contents",
   "title_sidebar": "Contents",
   "toc_cell": false,
   "toc_position": {
    "height": "660px",
    "left": "35px",
    "top": "111.125px",
    "width": "165px"
   },
   "toc_section_display": true,
   "toc_window_display": true
  }
 },
 "nbformat": 4,
 "nbformat_minor": 5
}
