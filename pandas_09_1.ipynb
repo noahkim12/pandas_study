{
 "cells": [
  {
   "cell_type": "markdown",
   "id": "a647823e",
   "metadata": {},
   "source": [
    "<span style=\"font-weight: bold; font-size:30px; color:#2196F3\">09-1 문자열 다루기</span>"
   ]
  },
  {
   "cell_type": "markdown",
   "id": "cba1ddd8",
   "metadata": {},
   "source": [
    "### 파이썬과 문자열\n",
    "문자열은 작은따옴표나 큰따옴표로 감싸서 만든다. 다음은 작은따옴표로 grail, a scratch라는 문자열 데이터를 만들어 변수 word, sent에 저장한 것이다."
   ]
  },
  {
   "cell_type": "code",
   "execution_count": 1,
   "id": "dd9098b0",
   "metadata": {},
   "outputs": [],
   "source": [
    "word = 'grail'\n",
    "sent = 'a scratch'"
   ]
  },
  {
   "cell_type": "markdown",
   "id": "6e5f90dd",
   "metadata": {},
   "source": [
    "\n"
   ]
  },
  {
   "cell_type": "markdown",
   "id": "2b2ae07e",
   "metadata": {},
   "source": [
    "<span style=\"font-weight: bold; font-size:20px; color:#2196F3\">인덱스로 문자열 추출하기</span><br>데이터프레임에서 인덱스를 이용하여 원하는 데이터를 추출했던 것을 기억해보자. 문자열도 인덱스를 사용하여 추출할 수 있다. 문자는 길이가 1인 문자열로 생각하면 된다. 다음은 문자열과 인덱스를 함께 나타낸 표이다. 간단하게 살펴보고 실습으로 넘어가자."
   ]
  },
  {
   "cell_type": "markdown",
   "id": "10379724",
   "metadata": {},
   "source": [
    "\n"
   ]
  },
  {
   "cell_type": "markdown",
   "id": "2acb9ca9",
   "metadata": {},
   "source": [
    "#### 문자열 grail과 인덱스"
   ]
  },
  {
   "cell_type": "markdown",
   "id": "d5fb0e70",
   "metadata": {},
   "source": [
    "<table> <tr> <th>인덱스</th> <td>0</td> <td>1</td> <td>2</td> <td>3</td> <td>4</td> </tr> <tr> <th>문자열</th> <td>g</td> <td>r</td> <td>a</td> <td>i</td> <td>l</td> </tr> <tr> <th>음수 인덱스</th> <td>-5</td> <td>-4</td> <td>-3</td> <td>-2</td> <td>-1</td> </tr> </table>"
   ]
  },
  {
   "cell_type": "markdown",
   "id": "046c6406",
   "metadata": {},
   "source": [
    "\n"
   ]
  },
  {
   "cell_type": "markdown",
   "id": "9fdd0236",
   "metadata": {},
   "source": [
    "#### 문자열 a scratch와 인덱스"
   ]
  },
  {
   "cell_type": "markdown",
   "id": "061fb959",
   "metadata": {},
   "source": [
    "<table> <tr> <th>인덱스</th> <td>0</td> <td>1</td> <td>2</td> <td>3</td> <td>4</td> <td>5</td> <td>6</td> <td>7</td> <td>8</td> </tr> <tr> <th>문자열</th> <td>a</td> <td> </td> <td>s</td> <td>c</td> <td>r</td> <td>a</td> <td>t</td> <td>c</td> <td>h</td> </tr> <tr> <th>음수 인덱스</th> <td>-9</td> <td>-8</td> <td>-7</td> <td>-6</td> <td>-5</td> <td>-4</td> <td>-3</td> <td>-2</td> <td>-1</td> </tr> </table>"
   ]
  },
  {
   "cell_type": "markdown",
   "id": "f7607217",
   "metadata": {},
   "source": [
    "\n"
   ]
  },
  {
   "cell_type": "markdown",
   "id": "81cb9ae5",
   "metadata": {},
   "source": [
    "### 문자열 추출하기"
   ]
  },
  {
   "cell_type": "markdown",
   "id": "434201f5",
   "metadata": {},
   "source": [
    "#### 각 문자열의 첫 번째 문자는 아래와 같은 방법으로 추출한다."
   ]
  },
  {
   "cell_type": "code",
   "execution_count": 2,
   "id": "52b926e0",
   "metadata": {},
   "outputs": [],
   "source": [
    "word = 'grail'\n",
    "sent = 'a scratch'"
   ]
  },
  {
   "cell_type": "code",
   "execution_count": 3,
   "id": "bf41ff0f",
   "metadata": {},
   "outputs": [
    {
     "name": "stdout",
     "output_type": "stream",
     "text": [
      "g\n"
     ]
    }
   ],
   "source": [
    "print(word[0])"
   ]
  },
  {
   "cell_type": "code",
   "execution_count": 4,
   "id": "ba5ba178",
   "metadata": {},
   "outputs": [
    {
     "name": "stdout",
     "output_type": "stream",
     "text": [
      "a\n"
     ]
    }
   ],
   "source": [
    "print(sent[0])"
   ]
  },
  {
   "cell_type": "markdown",
   "id": "986771d3",
   "metadata": {},
   "source": [
    "\n"
   ]
  },
  {
   "cell_type": "markdown",
   "id": "878d6073",
   "metadata": {},
   "source": [
    "#### 인덱스 슬라이싱을 사용하면 여러 개의 문자를 한 번에 추출할 수 있다. 아래는 인덱스 슬라이싱을 사용하여 0~2번째 인덱스의 문자를 추출한 것이다. 이때 대괄호에 지정한 왼쪽 범위(0)는 포함하고 오른쪽 범위(3)은 포함하지 않는다. 즉, 인덱스가 0, 1, 2인 문자를 추출한다."
   ]
  },
  {
   "cell_type": "code",
   "execution_count": 5,
   "id": "3c66d3ea",
   "metadata": {},
   "outputs": [
    {
     "name": "stdout",
     "output_type": "stream",
     "text": [
      "gra\n"
     ]
    }
   ],
   "source": [
    "print(word[0:3])"
   ]
  },
  {
   "cell_type": "markdown",
   "id": "7c7da306",
   "metadata": {},
   "source": [
    "\n"
   ]
  },
  {
   "cell_type": "markdown",
   "id": "5cd06263",
   "metadata": {},
   "source": [
    "#### 음수를 사용해도 문자열을 추출할 수 있다. 만약 인덱스를 -1로 지정하여 문자열을 추출하면 마지막 문자가 추출된다. 아래는 다양한 방법으로 음수 범위의 인덱스 슬라이싱을 한 것이다."
   ]
  },
  {
   "cell_type": "code",
   "execution_count": 6,
   "id": "f5429db9",
   "metadata": {},
   "outputs": [
    {
     "name": "stdout",
     "output_type": "stream",
     "text": [
      "h\n"
     ]
    }
   ],
   "source": [
    "print(sent[-1])"
   ]
  },
  {
   "cell_type": "code",
   "execution_count": 15,
   "id": "325bd1a2",
   "metadata": {},
   "outputs": [
    {
     "name": "stdout",
     "output_type": "stream",
     "text": [
      "a\n"
     ]
    }
   ],
   "source": [
    "print(sent[-9:-8])"
   ]
  },
  {
   "cell_type": "code",
   "execution_count": 16,
   "id": "9d36074b",
   "metadata": {},
   "outputs": [
    {
     "name": "stdout",
     "output_type": "stream",
     "text": [
      "a\n"
     ]
    }
   ],
   "source": [
    "print(sent[0:-8])"
   ]
  },
  {
   "cell_type": "markdown",
   "id": "70e5f425",
   "metadata": {},
   "source": [
    "\n"
   ]
  },
  {
   "cell_type": "markdown",
   "id": "8c29dd14",
   "metadata": {},
   "source": [
    "#### 전체 문자열을 추출할 때 음수를 사용하면 안 된다.\n",
    "문자열의 마지막 문자를 추출하려면 인덱스를 -1로 지정하면 된다. 그런데 전체 문자열을 추출하기 위해 인덱스 슬라이싱의 범위를 [0:-1]로 지정하면 마지막 문자는 추출되지 않는다. 바로 인덱스 슬라이싱의 오른쪽 범위로 지정한 값은 문자열 추출 범위에서 제외되기 때문이다. 전체 문자열을 추출하려면 len 메서드를 사용하여 문자열의 길이를 오른쪽 범위로 지정하면 된다. "
   ]
  },
  {
   "cell_type": "code",
   "execution_count": 17,
   "id": "d8e54e40",
   "metadata": {},
   "outputs": [
    {
     "name": "stdout",
     "output_type": "stream",
     "text": [
      "scratc\n"
     ]
    }
   ],
   "source": [
    "print(sent[2:-1])"
   ]
  },
  {
   "cell_type": "code",
   "execution_count": 18,
   "id": "c95a9def",
   "metadata": {},
   "outputs": [
    {
     "name": "stdout",
     "output_type": "stream",
     "text": [
      "scratc\n"
     ]
    }
   ],
   "source": [
    "print(sent[-7:-1])"
   ]
  },
  {
   "cell_type": "code",
   "execution_count": 20,
   "id": "40edfa61",
   "metadata": {},
   "outputs": [
    {
     "name": "stdout",
     "output_type": "stream",
     "text": [
      "9\n"
     ]
    }
   ],
   "source": [
    "s_len = len(sent)\n",
    "print(s_len)"
   ]
  },
  {
   "cell_type": "code",
   "execution_count": 21,
   "id": "d10c85b8",
   "metadata": {},
   "outputs": [
    {
     "name": "stdout",
     "output_type": "stream",
     "text": [
      "scratch\n"
     ]
    }
   ],
   "source": [
    "print(sent[2:s_len])"
   ]
  },
  {
   "cell_type": "markdown",
   "id": "93768a9d",
   "metadata": {},
   "source": [
    "\n"
   ]
  },
  {
   "cell_type": "markdown",
   "id": "d9f1bdb1",
   "metadata": {},
   "source": [
    "<span style=\"font-weight: bold; font-size:20px; color:#2196F3\">전체 문자열 추출하기</span><br>만약 인덱스 슬라이싱을 할 때 문자열 범위를 왼쪽 범위나 오른쪽 범위 중 하나만 지정하면 어떻게 될까? 왼쪽 범위가 비어있으면 첫 번째 위치부터 문자열을 추출한다. 반대로 오른쪽 범위가 비어 있으면 문자열의 마지막 위치까지 문자열을 추출한다. 즉, word[0:3]과 word[:3]은 같은 범위의 문자열을 추출한다. 이런 성질을 이용하여 전체 문자열을 추출해 보겠다."
   ]
  },
  {
   "cell_type": "markdown",
   "id": "b85f3942",
   "metadata": {},
   "source": [
    "\n"
   ]
  },
  {
   "cell_type": "markdown",
   "id": "1bffbe77",
   "metadata": {},
   "source": [
    "### 왼쪽이나 오른쪽 범위를 지정하지 않고 문자열 추출하기"
   ]
  },
  {
   "cell_type": "markdown",
   "id": "2b8405c5",
   "metadata": {},
   "source": [
    "#### 왼쪽 범위를 비우고 문자열을 추출하면 아래와 같이 된다."
   ]
  },
  {
   "cell_type": "code",
   "execution_count": 22,
   "id": "fede1ed9",
   "metadata": {},
   "outputs": [
    {
     "name": "stdout",
     "output_type": "stream",
     "text": [
      "gra\n"
     ]
    }
   ],
   "source": [
    "print(word[0:3])"
   ]
  },
  {
   "cell_type": "code",
   "execution_count": 23,
   "id": "e3b71f66",
   "metadata": {},
   "outputs": [
    {
     "name": "stdout",
     "output_type": "stream",
     "text": [
      "gra\n"
     ]
    }
   ],
   "source": [
    "print(word[ :3])"
   ]
  },
  {
   "cell_type": "markdown",
   "id": "4a710331",
   "metadata": {},
   "source": [
    "\n"
   ]
  },
  {
   "cell_type": "markdown",
   "id": "378152ba",
   "metadata": {},
   "source": [
    "#### 만약 오른쪽 범위를 비우면 문자열의 마지막 위치까지 문자열을 추출한다."
   ]
  },
  {
   "cell_type": "code",
   "execution_count": 24,
   "id": "4ca4c2f8",
   "metadata": {},
   "outputs": [
    {
     "name": "stdout",
     "output_type": "stream",
     "text": [
      "scratch\n"
     ]
    }
   ],
   "source": [
    "print(sent[2:len(sent)])"
   ]
  },
  {
   "cell_type": "code",
   "execution_count": 25,
   "id": "a74cf5d4",
   "metadata": {},
   "outputs": [
    {
     "name": "stdout",
     "output_type": "stream",
     "text": [
      "scratch\n"
     ]
    }
   ],
   "source": [
    "print(sent[2: ])"
   ]
  },
  {
   "cell_type": "markdown",
   "id": "524557f4",
   "metadata": {},
   "source": [
    "\n"
   ]
  },
  {
   "cell_type": "markdown",
   "id": "aafa9707",
   "metadata": {},
   "source": [
    "#### 양쪽을 모두 비우면 전체 문자열을 추출한다."
   ]
  },
  {
   "cell_type": "code",
   "execution_count": 26,
   "id": "3d53f71b",
   "metadata": {},
   "outputs": [
    {
     "name": "stdout",
     "output_type": "stream",
     "text": [
      "a scratch\n"
     ]
    }
   ],
   "source": [
    "print(sent[ : ])"
   ]
  },
  {
   "cell_type": "markdown",
   "id": "bc920846",
   "metadata": {},
   "source": [
    "\n"
   ]
  },
  {
   "cell_type": "markdown",
   "id": "0bcdb9e9",
   "metadata": {},
   "source": [
    "#### 만약 문자열을 일정한 간격으로 건너뛰며 추출해야 한다면 콜론(:)을 하나 더 추가하여 추출 간격을 지정하면 된다. 아래는 전체 문자열을 추출하되 다음 추출 문자는 자신을 포함하여 거리가 2인 인덱스의 문자를 추출한 것이다. (1칸씩 건너뛰며 추출한다.)"
   ]
  },
  {
   "cell_type": "code",
   "execution_count": 28,
   "id": "247929d4",
   "metadata": {},
   "outputs": [
    {
     "name": "stdout",
     "output_type": "stream",
     "text": [
      "asrth\n"
     ]
    }
   ],
   "source": [
    "print(sent[::2]) #1칸씩 건너뛰며 추출한다."
   ]
  },
  {
   "cell_type": "code",
   "execution_count": null,
   "id": "73e16be6",
   "metadata": {},
   "outputs": [],
   "source": []
  },
  {
   "cell_type": "code",
   "execution_count": null,
   "id": "d028c276",
   "metadata": {},
   "outputs": [],
   "source": []
  },
  {
   "cell_type": "code",
   "execution_count": null,
   "id": "8826cb4e",
   "metadata": {},
   "outputs": [],
   "source": []
  },
  {
   "cell_type": "markdown",
   "id": "48a1cb5a",
   "metadata": {},
   "source": [
    "\n"
   ]
  },
  {
   "cell_type": "markdown",
   "id": "a5dbc959",
   "metadata": {},
   "source": [
    "<span style=\"font-weight: bold; font-size:20px; color:Gray\">출처 : Do it! 데이터 분석을 위한 판다스</span>"
   ]
  },
  {
   "cell_type": "markdown",
   "id": "035f42c6",
   "metadata": {},
   "source": [
    "\n"
   ]
  }
 ],
 "metadata": {
  "kernelspec": {
   "display_name": "Python 3 (ipykernel)",
   "language": "python",
   "name": "python3"
  },
  "language_info": {
   "codemirror_mode": {
    "name": "ipython",
    "version": 3
   },
   "file_extension": ".py",
   "mimetype": "text/x-python",
   "name": "python",
   "nbconvert_exporter": "python",
   "pygments_lexer": "ipython3",
   "version": "3.9.13"
  },
  "toc": {
   "base_numbering": 1,
   "nav_menu": {},
   "number_sections": true,
   "sideBar": true,
   "skip_h1_title": false,
   "title_cell": "Table of Contents",
   "title_sidebar": "Contents",
   "toc_cell": false,
   "toc_position": {
    "height": "660px",
    "left": "35px",
    "top": "111.125px",
    "width": "203px"
   },
   "toc_section_display": true,
   "toc_window_display": true
  }
 },
 "nbformat": 4,
 "nbformat_minor": 5
}
