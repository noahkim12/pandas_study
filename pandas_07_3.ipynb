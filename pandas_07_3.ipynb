{
 "cells": [
  {
   "cell_type": "markdown",
   "id": "a647823e",
   "metadata": {},
   "source": [
    "<span style=\"font-weight: bold; font-size:40px; color:#2196F3\">07-3</span>\n",
    "# 여러 열을 하나로 정리하기"
   ]
  },
  {
   "cell_type": "markdown",
   "id": "da77c468",
   "metadata": {},
   "source": [
    "\n"
   ]
  },
  {
   "cell_type": "markdown",
   "id": "cba1ddd8",
   "metadata": {},
   "source": [
    "보통 데이터프레임의 열은 파이썬의 변수와 같은 개념으로 사용한다. 하지만 비슷한 성질의 데이터를 관리하기 위해 열이 여러 개로 분리되어 있는 경우도 있다. 다음 실습을 통해 여러 개로 분리된 열을 정리하는 방법에 대해 알아보겠다."
   ]
  },
  {
   "cell_type": "markdown",
   "id": "c7616a21",
   "metadata": {},
   "source": [
    "### 기상 데이터의 여러 열을 하나로 정리하기 - melt, pivot_table 메서드\n",
    "1. 다음은 기상 데이터를 불러와 출력한 것이다. 날짜 열(d1, ..., d31)에는 각 월별 최고, 최저 온도 데이터가 저장되어 있다. 지금은 날짜 열이 옆으로 길게 늘어져 있어 보기 불편하다. 먼저 날짜 열을 행 데이터로 피벗하겠다."
   ]
  },
  {
   "cell_type": "code",
   "execution_count": 2,
   "id": "db9287bc",
   "metadata": {},
   "outputs": [
    {
     "name": "stdout",
     "output_type": "stream",
     "text": [
      "        id  year  month element  d1    d2    d3  d4    d5  d6  ...  d22   d23  \\\n",
      "0  MX17004  2010      1    tmax NaN   NaN   NaN NaN   NaN NaN  ...  NaN   NaN   \n",
      "1  MX17004  2010      1    tmin NaN   NaN   NaN NaN   NaN NaN  ...  NaN   NaN   \n",
      "2  MX17004  2010      2    tmax NaN  27.3  24.1 NaN   NaN NaN  ...  NaN  29.9   \n",
      "3  MX17004  2010      2    tmin NaN  14.4  14.4 NaN   NaN NaN  ...  NaN  10.7   \n",
      "4  MX17004  2010      3    tmax NaN   NaN   NaN NaN  32.1 NaN  ...  NaN   NaN   \n",
      "\n",
      "   d24  d25  d26  d27  d28  d29   d30  d31  \n",
      "0  NaN  NaN  NaN  NaN  NaN  NaN  27.8  NaN  \n",
      "1  NaN  NaN  NaN  NaN  NaN  NaN  14.5  NaN  \n",
      "2  NaN  NaN  NaN  NaN  NaN  NaN   NaN  NaN  \n",
      "3  NaN  NaN  NaN  NaN  NaN  NaN   NaN  NaN  \n",
      "4  NaN  NaN  NaN  NaN  NaN  NaN   NaN  NaN  \n",
      "\n",
      "[5 rows x 35 columns]\n"
     ]
    }
   ],
   "source": [
    "import pandas as pd\n",
    "weather = pd.read_csv('doit_pandas_data/data/weather.csv')\n",
    "print(weather.iloc[:5, :])"
   ]
  },
  {
   "cell_type": "code",
   "execution_count": null,
   "id": "985213ec",
   "metadata": {},
   "outputs": [],
   "source": []
  },
  {
   "cell_type": "code",
   "execution_count": null,
   "id": "bf66d0b1",
   "metadata": {},
   "outputs": [],
   "source": []
  },
  {
   "cell_type": "markdown",
   "id": "48a1cb5a",
   "metadata": {},
   "source": [
    "\n"
   ]
  },
  {
   "cell_type": "markdown",
   "id": "a5dbc959",
   "metadata": {},
   "source": [
    "<span style=\"font-weight: bold; font-size:20px; color:Gray\">출처 : Do it! 데이터 분석을 위한 판다스</span>"
   ]
  },
  {
   "cell_type": "markdown",
   "id": "035f42c6",
   "metadata": {},
   "source": [
    "\n"
   ]
  }
 ],
 "metadata": {
  "kernelspec": {
   "display_name": "Python 3 (ipykernel)",
   "language": "python",
   "name": "python3"
  },
  "language_info": {
   "codemirror_mode": {
    "name": "ipython",
    "version": 3
   },
   "file_extension": ".py",
   "mimetype": "text/x-python",
   "name": "python",
   "nbconvert_exporter": "python",
   "pygments_lexer": "ipython3",
   "version": "3.9.13"
  },
  "toc": {
   "base_numbering": 1,
   "nav_menu": {},
   "number_sections": true,
   "sideBar": false,
   "skip_h1_title": false,
   "title_cell": "Table of Contents",
   "title_sidebar": "Contents",
   "toc_cell": false,
   "toc_position": {
    "height": "660px",
    "left": "39px",
    "top": "110.229px",
    "width": "174px"
   },
   "toc_section_display": true,
   "toc_window_display": true
  }
 },
 "nbformat": 4,
 "nbformat_minor": 5
}
